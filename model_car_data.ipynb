{
 "cells": [
  {
   "cell_type": "markdown",
   "metadata": {},
   "source": [
    "# What drives the price of a car?\n",
    "\n",
    "![](images/kurt.jpeg)"
   ]
  },
  {
   "cell_type": "markdown",
   "metadata": {},
   "source": [
    "**OVERVIEW**\n",
    "\n",
    "In this application, you will explore a dataset from kaggle. The original dataset contained information on 3 million used cars. The provided dataset contains information on 426K cars to ensure speed of processing.  Your goal is to understand what factors make a car more or less expensive.  As a result of your analysis, you should provide clear recommendations to your client -- a used car dealership -- as to what consumers value in a used car."
   ]
  },
  {
   "cell_type": "markdown",
   "metadata": {},
   "source": [
    "### CRISP-DM Framework\n",
    "\n",
    "<center>\n",
    "    <img src = images/crisp.png width = 50%/>\n",
    "</center>\n",
    "\n",
    "\n",
    "To frame the task, throughout our practical applications we will refer back to a standard process in industry for data projects called CRISP-DM.  This process provides a framework for working through a data problem.  Your first step in this application will be to read through a brief overview of CRISP-DM [here](https://mo-pcco.s3.us-east-1.amazonaws.com/BH-PCMLAI/module_11/readings_starter.zip).  After reading the overview, answer the questions below."
   ]
  },
  {
   "cell_type": "code",
   "execution_count": 307,
   "metadata": {
    "tags": []
   },
   "outputs": [],
   "source": [
    "import pandas as pd\n",
    "import numpy as np\n",
    "\n",
    "from sklearn.linear_model import Lasso, Ridge, LinearRegression\n",
    "from sklearn.metrics import mean_squared_error\n",
    "from sklearn.model_selection import train_test_split\n",
    "from sklearn.preprocessing import MinMaxScaler\n",
    "from sklearn.preprocessing import StandardScaler\n",
    "from statsmodels.tsa.stattools import adfuller\n",
    "\n",
    "from sklearn.model_selection import GridSearchCV\n",
    "\n",
    "import matplotlib.pyplot as plt\n",
    "import plotly.express as px\n",
    "\n",
    "import seaborn as sns\n",
    "plt.style.use('ggplot')\n",
    "\n",
    "import warnings\n",
    "warnings.filterwarnings(\"ignore\")\n"
   ]
  },
  {
   "cell_type": "markdown",
   "metadata": {
    "tags": []
   },
   "source": [
    "### Business Understanding\n",
    "\n",
    "From a business perspective, we are tasked with identifying key drivers for used car prices.  In the CRISP-DM overview, we are asked to convert this business framing to a data problem definition.  Using a few sentences, reframe the task as a data task with the appropriate technical vocabulary. "
   ]
  },
  {
   "cell_type": "markdown",
   "metadata": {
    "tags": []
   },
   "source": [
    "#### Objective\n",
    "\n",
    "The purpose of this  is to find out the used car prices by utilizing the CRISP-DM framework. \n",
    "A set of steps are going to be executed in accordance with the framework initially starting with the data understanding, data cleansing, genrating model, evaluating and then deploying the model.\n",
    "The used car businesses face the challenge of establishing a robust predictive model for determining used car prices. The aim of this project is to accurately estimate the used car prices model which could be utilized by the businesses. The model will enable a transparent and data driven approach to aid to both the business and the consumer, enhancing customer satisfaction and facilitating smoother transactions."
   ]
  },
  {
   "cell_type": "markdown",
   "metadata": {
    "tags": []
   },
   "source": [
    "### Data Understanding\n",
    "\n",
    "After considering the business understanding, we want to get familiar with our data.  Write down some steps that you would take to get to know the dataset and identify any quality issues within.  Take time to get to know the dataset and explore what information it contains and how this could be used to inform your business understanding."
   ]
  },
  {
   "cell_type": "code",
   "execution_count": 9,
   "metadata": {
    "tags": []
   },
   "outputs": [],
   "source": [
    "df = pd.read_csv('data/vehicles.csv')"
   ]
  },
  {
   "cell_type": "code",
   "execution_count": 11,
   "metadata": {
    "tags": []
   },
   "outputs": [
    {
     "data": {
      "text/html": [
       "<div>\n",
       "<style scoped>\n",
       "    .dataframe tbody tr th:only-of-type {\n",
       "        vertical-align: middle;\n",
       "    }\n",
       "\n",
       "    .dataframe tbody tr th {\n",
       "        vertical-align: top;\n",
       "    }\n",
       "\n",
       "    .dataframe thead th {\n",
       "        text-align: right;\n",
       "    }\n",
       "</style>\n",
       "<table border=\"1\" class=\"dataframe\">\n",
       "  <thead>\n",
       "    <tr style=\"text-align: right;\">\n",
       "      <th></th>\n",
       "      <th>id</th>\n",
       "      <th>region</th>\n",
       "      <th>price</th>\n",
       "      <th>year</th>\n",
       "      <th>manufacturer</th>\n",
       "      <th>model</th>\n",
       "      <th>condition</th>\n",
       "      <th>cylinders</th>\n",
       "      <th>fuel</th>\n",
       "      <th>odometer</th>\n",
       "      <th>title_status</th>\n",
       "      <th>transmission</th>\n",
       "      <th>VIN</th>\n",
       "      <th>drive</th>\n",
       "      <th>size</th>\n",
       "      <th>type</th>\n",
       "      <th>paint_color</th>\n",
       "      <th>state</th>\n",
       "    </tr>\n",
       "  </thead>\n",
       "  <tbody>\n",
       "    <tr>\n",
       "      <th>0</th>\n",
       "      <td>7222695916</td>\n",
       "      <td>prescott</td>\n",
       "      <td>6000</td>\n",
       "      <td>NaN</td>\n",
       "      <td>NaN</td>\n",
       "      <td>NaN</td>\n",
       "      <td>NaN</td>\n",
       "      <td>NaN</td>\n",
       "      <td>NaN</td>\n",
       "      <td>NaN</td>\n",
       "      <td>NaN</td>\n",
       "      <td>NaN</td>\n",
       "      <td>NaN</td>\n",
       "      <td>NaN</td>\n",
       "      <td>NaN</td>\n",
       "      <td>NaN</td>\n",
       "      <td>NaN</td>\n",
       "      <td>az</td>\n",
       "    </tr>\n",
       "    <tr>\n",
       "      <th>1</th>\n",
       "      <td>7218891961</td>\n",
       "      <td>fayetteville</td>\n",
       "      <td>11900</td>\n",
       "      <td>NaN</td>\n",
       "      <td>NaN</td>\n",
       "      <td>NaN</td>\n",
       "      <td>NaN</td>\n",
       "      <td>NaN</td>\n",
       "      <td>NaN</td>\n",
       "      <td>NaN</td>\n",
       "      <td>NaN</td>\n",
       "      <td>NaN</td>\n",
       "      <td>NaN</td>\n",
       "      <td>NaN</td>\n",
       "      <td>NaN</td>\n",
       "      <td>NaN</td>\n",
       "      <td>NaN</td>\n",
       "      <td>ar</td>\n",
       "    </tr>\n",
       "    <tr>\n",
       "      <th>2</th>\n",
       "      <td>7221797935</td>\n",
       "      <td>florida keys</td>\n",
       "      <td>21000</td>\n",
       "      <td>NaN</td>\n",
       "      <td>NaN</td>\n",
       "      <td>NaN</td>\n",
       "      <td>NaN</td>\n",
       "      <td>NaN</td>\n",
       "      <td>NaN</td>\n",
       "      <td>NaN</td>\n",
       "      <td>NaN</td>\n",
       "      <td>NaN</td>\n",
       "      <td>NaN</td>\n",
       "      <td>NaN</td>\n",
       "      <td>NaN</td>\n",
       "      <td>NaN</td>\n",
       "      <td>NaN</td>\n",
       "      <td>fl</td>\n",
       "    </tr>\n",
       "    <tr>\n",
       "      <th>3</th>\n",
       "      <td>7222270760</td>\n",
       "      <td>worcester / central MA</td>\n",
       "      <td>1500</td>\n",
       "      <td>NaN</td>\n",
       "      <td>NaN</td>\n",
       "      <td>NaN</td>\n",
       "      <td>NaN</td>\n",
       "      <td>NaN</td>\n",
       "      <td>NaN</td>\n",
       "      <td>NaN</td>\n",
       "      <td>NaN</td>\n",
       "      <td>NaN</td>\n",
       "      <td>NaN</td>\n",
       "      <td>NaN</td>\n",
       "      <td>NaN</td>\n",
       "      <td>NaN</td>\n",
       "      <td>NaN</td>\n",
       "      <td>ma</td>\n",
       "    </tr>\n",
       "    <tr>\n",
       "      <th>4</th>\n",
       "      <td>7210384030</td>\n",
       "      <td>greensboro</td>\n",
       "      <td>4900</td>\n",
       "      <td>NaN</td>\n",
       "      <td>NaN</td>\n",
       "      <td>NaN</td>\n",
       "      <td>NaN</td>\n",
       "      <td>NaN</td>\n",
       "      <td>NaN</td>\n",
       "      <td>NaN</td>\n",
       "      <td>NaN</td>\n",
       "      <td>NaN</td>\n",
       "      <td>NaN</td>\n",
       "      <td>NaN</td>\n",
       "      <td>NaN</td>\n",
       "      <td>NaN</td>\n",
       "      <td>NaN</td>\n",
       "      <td>nc</td>\n",
       "    </tr>\n",
       "  </tbody>\n",
       "</table>\n",
       "</div>"
      ],
      "text/plain": [
       "           id                  region  price  year manufacturer model  \\\n",
       "0  7222695916                prescott   6000   NaN          NaN   NaN   \n",
       "1  7218891961            fayetteville  11900   NaN          NaN   NaN   \n",
       "2  7221797935            florida keys  21000   NaN          NaN   NaN   \n",
       "3  7222270760  worcester / central MA   1500   NaN          NaN   NaN   \n",
       "4  7210384030              greensboro   4900   NaN          NaN   NaN   \n",
       "\n",
       "  condition cylinders fuel  odometer title_status transmission  VIN drive  \\\n",
       "0       NaN       NaN  NaN       NaN          NaN          NaN  NaN   NaN   \n",
       "1       NaN       NaN  NaN       NaN          NaN          NaN  NaN   NaN   \n",
       "2       NaN       NaN  NaN       NaN          NaN          NaN  NaN   NaN   \n",
       "3       NaN       NaN  NaN       NaN          NaN          NaN  NaN   NaN   \n",
       "4       NaN       NaN  NaN       NaN          NaN          NaN  NaN   NaN   \n",
       "\n",
       "  size type paint_color state  \n",
       "0  NaN  NaN         NaN    az  \n",
       "1  NaN  NaN         NaN    ar  \n",
       "2  NaN  NaN         NaN    fl  \n",
       "3  NaN  NaN         NaN    ma  \n",
       "4  NaN  NaN         NaN    nc  "
      ]
     },
     "execution_count": 11,
     "metadata": {},
     "output_type": "execute_result"
    }
   ],
   "source": [
    "df.head()"
   ]
  },
  {
   "cell_type": "code",
   "execution_count": 13,
   "metadata": {
    "tags": []
   },
   "outputs": [
    {
     "data": {
      "text/plain": [
       "(426880, 18)"
      ]
     },
     "execution_count": 13,
     "metadata": {},
     "output_type": "execute_result"
    }
   ],
   "source": [
    "#How many rows and columns does the data file have\n",
    "df.shape"
   ]
  },
  {
   "cell_type": "code",
   "execution_count": 15,
   "metadata": {
    "tags": []
   },
   "outputs": [
    {
     "name": "stdout",
     "output_type": "stream",
     "text": [
      "<class 'pandas.core.frame.DataFrame'>\n",
      "RangeIndex: 426880 entries, 0 to 426879\n",
      "Data columns (total 18 columns):\n",
      " #   Column        Non-Null Count   Dtype  \n",
      "---  ------        --------------   -----  \n",
      " 0   id            426880 non-null  int64  \n",
      " 1   region        426880 non-null  object \n",
      " 2   price         426880 non-null  int64  \n",
      " 3   year          425675 non-null  float64\n",
      " 4   manufacturer  409234 non-null  object \n",
      " 5   model         421603 non-null  object \n",
      " 6   condition     252776 non-null  object \n",
      " 7   cylinders     249202 non-null  object \n",
      " 8   fuel          423867 non-null  object \n",
      " 9   odometer      422480 non-null  float64\n",
      " 10  title_status  418638 non-null  object \n",
      " 11  transmission  424324 non-null  object \n",
      " 12  VIN           265838 non-null  object \n",
      " 13  drive         296313 non-null  object \n",
      " 14  size          120519 non-null  object \n",
      " 15  type          334022 non-null  object \n",
      " 16  paint_color   296677 non-null  object \n",
      " 17  state         426880 non-null  object \n",
      "dtypes: float64(2), int64(2), object(14)\n",
      "memory usage: 58.6+ MB\n"
     ]
    }
   ],
   "source": [
    "#Info about the columns\n",
    "df.info()"
   ]
  },
  {
   "cell_type": "code",
   "execution_count": 17,
   "metadata": {
    "tags": []
   },
   "outputs": [
    {
     "data": {
      "text/plain": [
       "id                   0\n",
       "region               0\n",
       "price                0\n",
       "year              1205\n",
       "manufacturer     17646\n",
       "model             5277\n",
       "condition       174104\n",
       "cylinders       177678\n",
       "fuel              3013\n",
       "odometer          4400\n",
       "title_status      8242\n",
       "transmission      2556\n",
       "VIN             161042\n",
       "drive           130567\n",
       "size            306361\n",
       "type             92858\n",
       "paint_color     130203\n",
       "state                0\n",
       "dtype: int64"
      ]
     },
     "execution_count": 17,
     "metadata": {},
     "output_type": "execute_result"
    }
   ],
   "source": [
    "# How many records are null in each column\n",
    "df.isna().sum()"
   ]
  },
  {
   "cell_type": "code",
   "execution_count": 19,
   "metadata": {
    "tags": []
   },
   "outputs": [
    {
     "data": {
      "text/plain": [
       "id               0.000000\n",
       "region           0.000000\n",
       "price            0.000000\n",
       "year             0.282281\n",
       "manufacturer     4.133714\n",
       "model            1.236179\n",
       "condition       40.785232\n",
       "cylinders       41.622470\n",
       "fuel             0.705819\n",
       "odometer         1.030735\n",
       "title_status     1.930753\n",
       "transmission     0.598763\n",
       "VIN             37.725356\n",
       "drive           30.586347\n",
       "size            71.767476\n",
       "type            21.752717\n",
       "paint_color     30.501078\n",
       "state            0.000000\n",
       "dtype: float64"
      ]
     },
     "execution_count": 19,
     "metadata": {},
     "output_type": "execute_result"
    }
   ],
   "source": [
    "#Percentage of values missing in each column\n",
    "df.isna().mean().multiply(100)"
   ]
  },
  {
   "cell_type": "code",
   "execution_count": 21,
   "metadata": {
    "tags": []
   },
   "outputs": [
    {
     "data": {
      "image/png": "[encoded data removed]",
      "text/plain": [
       "<Figure size 640x480 with 2 Axes>"
      ]
     },
     "metadata": {},
     "output_type": "display_data"
    }
   ],
   "source": [
    "#Heatmap showing the distribution of null values\n",
    "sns.heatmap(df.isna());"
   ]
  },
  {
   "cell_type": "code",
   "execution_count": 22,
   "metadata": {
    "tags": []
   },
   "outputs": [
    {
     "data": {
      "image/png": "[encoded data removed]",
      "text/plain": [
       "<Figure size 640x480 with 1 Axes>"
      ]
     },
     "metadata": {},
     "output_type": "display_data"
    }
   ],
   "source": [
    "#Plot of null data\n",
    "fig = df.isna().mean().multiply(100).round(2).plot(kind = 'barh');\n",
    "fig.set_title(\"Plot of percentage of Null data \")\n",
    "fig.plot();"
   ]
  },
  {
   "cell_type": "code",
   "execution_count": 25,
   "metadata": {
    "tags": []
   },
   "outputs": [
    {
     "data": {
      "text/plain": [
       "0"
      ]
     },
     "execution_count": 25,
     "metadata": {},
     "output_type": "execute_result"
    }
   ],
   "source": [
    "#Num of duplicated rows\n",
    "df.duplicated().sum()"
   ]
  },
  {
   "cell_type": "code",
   "execution_count": 27,
   "metadata": {
    "tags": []
   },
   "outputs": [
    {
     "data": {
      "image/png": "[encoded data removed]",
      "text/plain": [
       "<Figure size 640x480 with 4 Axes>"
      ]
     },
     "metadata": {},
     "output_type": "display_data"
    }
   ],
   "source": [
    "df.hist();"
   ]
  },
  {
   "cell_type": "markdown",
   "metadata": {
    "tags": []
   },
   "source": [
    "### Data Preparation\n",
    "\n",
    "After our initial exploration and fine tuning of the business understanding, it is time to construct our final dataset prior to modeling.  Here, we want to make sure to handle any integrity issues and cleaning, the engineering of new features, any transformations that we believe should happen (scaling, logarithms, normalization, etc.), and general preparation for modeling with `sklearn`. "
   ]
  },
  {
   "cell_type": "code",
   "execution_count": 32,
   "metadata": {
    "tags": []
   },
   "outputs": [
    {
     "data": {
      "text/plain": [
       "Index([     0,      1,      2,      3,      4,      5,      6,      7,      8,\n",
       "            9,     10,     11,     12,     13,     14,     15,     16,     17,\n",
       "           18,     19,     20,     21,     22,     23,     24,     25,     26,\n",
       "        30184,  33948,  63236,  70037,  72478,  80766,  80767,  80768,  80769,\n",
       "        83032,  94693, 118854, 121392, 144406, 144572, 159273, 172776, 175630,\n",
       "       196288, 197407, 197408, 214184, 231771, 267108, 268255, 275017, 283644,\n",
       "       283884, 295053, 295054, 295055, 295056, 295057, 295058, 331001, 332728,\n",
       "       368797, 372596, 375886, 402274, 410619],\n",
       "      dtype='int64')"
      ]
     },
     "execution_count": 32,
     "metadata": {},
     "output_type": "execute_result"
    }
   ],
   "source": [
    "#Several rows with important features which are all null can be dropped\n",
    "na_rows = df.index[df['size'].isna() \n",
    "                   & df['manufacturer'].isna() \n",
    "                   & df['model'].isna() \n",
    "                   & df['year'].isna()]\n",
    "na_rows"
   ]
  },
  {
   "cell_type": "code",
   "execution_count": 34,
   "metadata": {
    "tags": []
   },
   "outputs": [
    {
     "data": {
      "text/html": [
       "<div>\n",
       "<style scoped>\n",
       "    .dataframe tbody tr th:only-of-type {\n",
       "        vertical-align: middle;\n",
       "    }\n",
       "\n",
       "    .dataframe tbody tr th {\n",
       "        vertical-align: top;\n",
       "    }\n",
       "\n",
       "    .dataframe thead th {\n",
       "        text-align: right;\n",
       "    }\n",
       "</style>\n",
       "<table border=\"1\" class=\"dataframe\">\n",
       "  <thead>\n",
       "    <tr style=\"text-align: right;\">\n",
       "      <th></th>\n",
       "      <th>index</th>\n",
       "      <th>region</th>\n",
       "      <th>price</th>\n",
       "      <th>year</th>\n",
       "      <th>manufacturer</th>\n",
       "      <th>model</th>\n",
       "      <th>condition</th>\n",
       "      <th>cylinders</th>\n",
       "      <th>fuel</th>\n",
       "      <th>odometer</th>\n",
       "      <th>title_status</th>\n",
       "      <th>transmission</th>\n",
       "      <th>VIN</th>\n",
       "      <th>drive</th>\n",
       "      <th>size</th>\n",
       "      <th>type</th>\n",
       "      <th>paint_color</th>\n",
       "      <th>state</th>\n",
       "    </tr>\n",
       "  </thead>\n",
       "  <tbody>\n",
       "    <tr>\n",
       "      <th>0</th>\n",
       "      <td>0</td>\n",
       "      <td>prescott</td>\n",
       "      <td>6000</td>\n",
       "      <td>NaN</td>\n",
       "      <td>NaN</td>\n",
       "      <td>NaN</td>\n",
       "      <td>NaN</td>\n",
       "      <td>NaN</td>\n",
       "      <td>NaN</td>\n",
       "      <td>NaN</td>\n",
       "      <td>NaN</td>\n",
       "      <td>NaN</td>\n",
       "      <td>NaN</td>\n",
       "      <td>NaN</td>\n",
       "      <td>NaN</td>\n",
       "      <td>NaN</td>\n",
       "      <td>NaN</td>\n",
       "      <td>az</td>\n",
       "    </tr>\n",
       "    <tr>\n",
       "      <th>1</th>\n",
       "      <td>1</td>\n",
       "      <td>fayetteville</td>\n",
       "      <td>11900</td>\n",
       "      <td>NaN</td>\n",
       "      <td>NaN</td>\n",
       "      <td>NaN</td>\n",
       "      <td>NaN</td>\n",
       "      <td>NaN</td>\n",
       "      <td>NaN</td>\n",
       "      <td>NaN</td>\n",
       "      <td>NaN</td>\n",
       "      <td>NaN</td>\n",
       "      <td>NaN</td>\n",
       "      <td>NaN</td>\n",
       "      <td>NaN</td>\n",
       "      <td>NaN</td>\n",
       "      <td>NaN</td>\n",
       "      <td>ar</td>\n",
       "    </tr>\n",
       "    <tr>\n",
       "      <th>2</th>\n",
       "      <td>2</td>\n",
       "      <td>florida keys</td>\n",
       "      <td>21000</td>\n",
       "      <td>NaN</td>\n",
       "      <td>NaN</td>\n",
       "      <td>NaN</td>\n",
       "      <td>NaN</td>\n",
       "      <td>NaN</td>\n",
       "      <td>NaN</td>\n",
       "      <td>NaN</td>\n",
       "      <td>NaN</td>\n",
       "      <td>NaN</td>\n",
       "      <td>NaN</td>\n",
       "      <td>NaN</td>\n",
       "      <td>NaN</td>\n",
       "      <td>NaN</td>\n",
       "      <td>NaN</td>\n",
       "      <td>fl</td>\n",
       "    </tr>\n",
       "    <tr>\n",
       "      <th>3</th>\n",
       "      <td>3</td>\n",
       "      <td>worcester / central MA</td>\n",
       "      <td>1500</td>\n",
       "      <td>NaN</td>\n",
       "      <td>NaN</td>\n",
       "      <td>NaN</td>\n",
       "      <td>NaN</td>\n",
       "      <td>NaN</td>\n",
       "      <td>NaN</td>\n",
       "      <td>NaN</td>\n",
       "      <td>NaN</td>\n",
       "      <td>NaN</td>\n",
       "      <td>NaN</td>\n",
       "      <td>NaN</td>\n",
       "      <td>NaN</td>\n",
       "      <td>NaN</td>\n",
       "      <td>NaN</td>\n",
       "      <td>ma</td>\n",
       "    </tr>\n",
       "    <tr>\n",
       "      <th>4</th>\n",
       "      <td>4</td>\n",
       "      <td>greensboro</td>\n",
       "      <td>4900</td>\n",
       "      <td>NaN</td>\n",
       "      <td>NaN</td>\n",
       "      <td>NaN</td>\n",
       "      <td>NaN</td>\n",
       "      <td>NaN</td>\n",
       "      <td>NaN</td>\n",
       "      <td>NaN</td>\n",
       "      <td>NaN</td>\n",
       "      <td>NaN</td>\n",
       "      <td>NaN</td>\n",
       "      <td>NaN</td>\n",
       "      <td>NaN</td>\n",
       "      <td>NaN</td>\n",
       "      <td>NaN</td>\n",
       "      <td>nc</td>\n",
       "    </tr>\n",
       "  </tbody>\n",
       "</table>\n",
       "</div>"
      ],
      "text/plain": [
       "   index                  region  price  year manufacturer model condition  \\\n",
       "0      0                prescott   6000   NaN          NaN   NaN       NaN   \n",
       "1      1            fayetteville  11900   NaN          NaN   NaN       NaN   \n",
       "2      2            florida keys  21000   NaN          NaN   NaN       NaN   \n",
       "3      3  worcester / central MA   1500   NaN          NaN   NaN       NaN   \n",
       "4      4              greensboro   4900   NaN          NaN   NaN       NaN   \n",
       "\n",
       "  cylinders fuel  odometer title_status transmission  VIN drive size type  \\\n",
       "0       NaN  NaN       NaN          NaN          NaN  NaN   NaN  NaN  NaN   \n",
       "1       NaN  NaN       NaN          NaN          NaN  NaN   NaN  NaN  NaN   \n",
       "2       NaN  NaN       NaN          NaN          NaN  NaN   NaN  NaN  NaN   \n",
       "3       NaN  NaN       NaN          NaN          NaN  NaN   NaN  NaN  NaN   \n",
       "4       NaN  NaN       NaN          NaN          NaN  NaN   NaN  NaN  NaN   \n",
       "\n",
       "  paint_color state  \n",
       "0         NaN    az  \n",
       "1         NaN    ar  \n",
       "2         NaN    fl  \n",
       "3         NaN    ma  \n",
       "4         NaN    nc  "
      ]
     },
     "execution_count": 34,
     "metadata": {},
     "output_type": "execute_result"
    }
   ],
   "source": [
    "#df = df.drop(df.index[na_rows], inplace=True)\n",
    "df = df.drop('id', axis=1)\n",
    "#reset the index after deletion of rows\n",
    "df = df.reset_index()\n",
    "df.head()"
   ]
  },
  {
   "cell_type": "code",
   "execution_count": 36,
   "metadata": {
    "tags": []
   },
   "outputs": [
    {
     "name": "stdout",
     "output_type": "stream",
     "text": [
      "<class 'pandas.core.frame.DataFrame'>\n",
      "RangeIndex: 426880 entries, 0 to 426879\n",
      "Data columns (total 14 columns):\n",
      " #   Column        Non-Null Count   Dtype \n",
      "---  ------        --------------   ----- \n",
      " 0   region        426880 non-null  string\n",
      " 1   manufacturer  409234 non-null  string\n",
      " 2   model         421603 non-null  string\n",
      " 3   condition     252776 non-null  string\n",
      " 4   cylinders     249202 non-null  string\n",
      " 5   fuel          423867 non-null  string\n",
      " 6   title_status  418638 non-null  string\n",
      " 7   transmission  424324 non-null  string\n",
      " 8   VIN           265838 non-null  string\n",
      " 9   drive         296313 non-null  string\n",
      " 10  size          120519 non-null  string\n",
      " 11  type          334022 non-null  string\n",
      " 12  paint_color   296677 non-null  string\n",
      " 13  state         426880 non-null  string\n",
      "dtypes: string(14)\n",
      "memory usage: 45.6 MB\n"
     ]
    }
   ],
   "source": [
    "df_str = df.select_dtypes(include=object).astype('string')\n",
    "df_str.info()"
   ]
  },
  {
   "cell_type": "code",
   "execution_count": 38,
   "metadata": {
    "tags": []
   },
   "outputs": [
    {
     "data": {
      "text/html": [
       "<div>\n",
       "<style scoped>\n",
       "    .dataframe tbody tr th:only-of-type {\n",
       "        vertical-align: middle;\n",
       "    }\n",
       "\n",
       "    .dataframe tbody tr th {\n",
       "        vertical-align: top;\n",
       "    }\n",
       "\n",
       "    .dataframe thead th {\n",
       "        text-align: right;\n",
       "    }\n",
       "</style>\n",
       "<table border=\"1\" class=\"dataframe\">\n",
       "  <thead>\n",
       "    <tr style=\"text-align: right;\">\n",
       "      <th></th>\n",
       "      <th>index</th>\n",
       "      <th>region</th>\n",
       "      <th>price</th>\n",
       "      <th>state</th>\n",
       "    </tr>\n",
       "  </thead>\n",
       "  <tbody>\n",
       "    <tr>\n",
       "      <th>0</th>\n",
       "      <td>0</td>\n",
       "      <td>prescott</td>\n",
       "      <td>6000</td>\n",
       "      <td>az</td>\n",
       "    </tr>\n",
       "    <tr>\n",
       "      <th>1</th>\n",
       "      <td>1</td>\n",
       "      <td>fayetteville</td>\n",
       "      <td>11900</td>\n",
       "      <td>ar</td>\n",
       "    </tr>\n",
       "    <tr>\n",
       "      <th>2</th>\n",
       "      <td>2</td>\n",
       "      <td>florida keys</td>\n",
       "      <td>21000</td>\n",
       "      <td>fl</td>\n",
       "    </tr>\n",
       "    <tr>\n",
       "      <th>3</th>\n",
       "      <td>3</td>\n",
       "      <td>worcester / central MA</td>\n",
       "      <td>1500</td>\n",
       "      <td>ma</td>\n",
       "    </tr>\n",
       "    <tr>\n",
       "      <th>4</th>\n",
       "      <td>4</td>\n",
       "      <td>greensboro</td>\n",
       "      <td>4900</td>\n",
       "      <td>nc</td>\n",
       "    </tr>\n",
       "    <tr>\n",
       "      <th>...</th>\n",
       "      <td>...</td>\n",
       "      <td>...</td>\n",
       "      <td>...</td>\n",
       "      <td>...</td>\n",
       "    </tr>\n",
       "    <tr>\n",
       "      <th>426875</th>\n",
       "      <td>426875</td>\n",
       "      <td>wyoming</td>\n",
       "      <td>23590</td>\n",
       "      <td>wy</td>\n",
       "    </tr>\n",
       "    <tr>\n",
       "      <th>426876</th>\n",
       "      <td>426876</td>\n",
       "      <td>wyoming</td>\n",
       "      <td>30590</td>\n",
       "      <td>wy</td>\n",
       "    </tr>\n",
       "    <tr>\n",
       "      <th>426877</th>\n",
       "      <td>426877</td>\n",
       "      <td>wyoming</td>\n",
       "      <td>34990</td>\n",
       "      <td>wy</td>\n",
       "    </tr>\n",
       "    <tr>\n",
       "      <th>426878</th>\n",
       "      <td>426878</td>\n",
       "      <td>wyoming</td>\n",
       "      <td>28990</td>\n",
       "      <td>wy</td>\n",
       "    </tr>\n",
       "    <tr>\n",
       "      <th>426879</th>\n",
       "      <td>426879</td>\n",
       "      <td>wyoming</td>\n",
       "      <td>30590</td>\n",
       "      <td>wy</td>\n",
       "    </tr>\n",
       "  </tbody>\n",
       "</table>\n",
       "<p>426880 rows × 4 columns</p>\n",
       "</div>"
      ],
      "text/plain": [
       "         index                  region  price state\n",
       "0            0                prescott   6000    az\n",
       "1            1            fayetteville  11900    ar\n",
       "2            2            florida keys  21000    fl\n",
       "3            3  worcester / central MA   1500    ma\n",
       "4            4              greensboro   4900    nc\n",
       "...        ...                     ...    ...   ...\n",
       "426875  426875                 wyoming  23590    wy\n",
       "426876  426876                 wyoming  30590    wy\n",
       "426877  426877                 wyoming  34990    wy\n",
       "426878  426878                 wyoming  28990    wy\n",
       "426879  426879                 wyoming  30590    wy\n",
       "\n",
       "[426880 rows x 4 columns]"
      ]
     },
     "execution_count": 38,
     "metadata": {},
     "output_type": "execute_result"
    }
   ],
   "source": [
    "#On the high level if we remove columns with all Null/NA values what is left at the end?\n",
    "# The four coulums remaining are basic column and one of which we would be eliminating to train the model too so this does not leaves us with a lot of data to base a good model\n",
    "df_not_na = df[df.columns[~df.isna().any()]]\n",
    "df_not_na"
   ]
  },
  {
   "cell_type": "markdown",
   "metadata": {},
   "source": [
    "#### VIN \n",
    "There is 30% data missing for the VIN or Vehicle Identification Number\n",
    "Based on the understanding of cars and some research even though VIN is an important factor to figure out the history, insuarance and the resale value. For the data modelling perspective it is just a label and won't provide any value to the model.\n",
    "So the recommended action is `dropping` this column"
   ]
  },
  {
   "cell_type": "code",
   "execution_count": 41,
   "metadata": {
    "tags": []
   },
   "outputs": [
    {
     "data": {
      "text/html": [
       "<div>\n",
       "<style scoped>\n",
       "    .dataframe tbody tr th:only-of-type {\n",
       "        vertical-align: middle;\n",
       "    }\n",
       "\n",
       "    .dataframe tbody tr th {\n",
       "        vertical-align: top;\n",
       "    }\n",
       "\n",
       "    .dataframe thead th {\n",
       "        text-align: right;\n",
       "    }\n",
       "</style>\n",
       "<table border=\"1\" class=\"dataframe\">\n",
       "  <thead>\n",
       "    <tr style=\"text-align: right;\">\n",
       "      <th></th>\n",
       "      <th>index</th>\n",
       "      <th>region</th>\n",
       "      <th>price</th>\n",
       "      <th>year</th>\n",
       "      <th>manufacturer</th>\n",
       "      <th>model</th>\n",
       "      <th>condition</th>\n",
       "      <th>cylinders</th>\n",
       "      <th>fuel</th>\n",
       "      <th>odometer</th>\n",
       "      <th>title_status</th>\n",
       "      <th>transmission</th>\n",
       "      <th>drive</th>\n",
       "      <th>size</th>\n",
       "      <th>type</th>\n",
       "      <th>paint_color</th>\n",
       "      <th>state</th>\n",
       "    </tr>\n",
       "  </thead>\n",
       "  <tbody>\n",
       "    <tr>\n",
       "      <th>0</th>\n",
       "      <td>0</td>\n",
       "      <td>prescott</td>\n",
       "      <td>6000</td>\n",
       "      <td>NaN</td>\n",
       "      <td>NaN</td>\n",
       "      <td>NaN</td>\n",
       "      <td>NaN</td>\n",
       "      <td>NaN</td>\n",
       "      <td>NaN</td>\n",
       "      <td>NaN</td>\n",
       "      <td>NaN</td>\n",
       "      <td>NaN</td>\n",
       "      <td>NaN</td>\n",
       "      <td>NaN</td>\n",
       "      <td>NaN</td>\n",
       "      <td>NaN</td>\n",
       "      <td>az</td>\n",
       "    </tr>\n",
       "    <tr>\n",
       "      <th>1</th>\n",
       "      <td>1</td>\n",
       "      <td>fayetteville</td>\n",
       "      <td>11900</td>\n",
       "      <td>NaN</td>\n",
       "      <td>NaN</td>\n",
       "      <td>NaN</td>\n",
       "      <td>NaN</td>\n",
       "      <td>NaN</td>\n",
       "      <td>NaN</td>\n",
       "      <td>NaN</td>\n",
       "      <td>NaN</td>\n",
       "      <td>NaN</td>\n",
       "      <td>NaN</td>\n",
       "      <td>NaN</td>\n",
       "      <td>NaN</td>\n",
       "      <td>NaN</td>\n",
       "      <td>ar</td>\n",
       "    </tr>\n",
       "    <tr>\n",
       "      <th>2</th>\n",
       "      <td>2</td>\n",
       "      <td>florida keys</td>\n",
       "      <td>21000</td>\n",
       "      <td>NaN</td>\n",
       "      <td>NaN</td>\n",
       "      <td>NaN</td>\n",
       "      <td>NaN</td>\n",
       "      <td>NaN</td>\n",
       "      <td>NaN</td>\n",
       "      <td>NaN</td>\n",
       "      <td>NaN</td>\n",
       "      <td>NaN</td>\n",
       "      <td>NaN</td>\n",
       "      <td>NaN</td>\n",
       "      <td>NaN</td>\n",
       "      <td>NaN</td>\n",
       "      <td>fl</td>\n",
       "    </tr>\n",
       "    <tr>\n",
       "      <th>3</th>\n",
       "      <td>3</td>\n",
       "      <td>worcester / central MA</td>\n",
       "      <td>1500</td>\n",
       "      <td>NaN</td>\n",
       "      <td>NaN</td>\n",
       "      <td>NaN</td>\n",
       "      <td>NaN</td>\n",
       "      <td>NaN</td>\n",
       "      <td>NaN</td>\n",
       "      <td>NaN</td>\n",
       "      <td>NaN</td>\n",
       "      <td>NaN</td>\n",
       "      <td>NaN</td>\n",
       "      <td>NaN</td>\n",
       "      <td>NaN</td>\n",
       "      <td>NaN</td>\n",
       "      <td>ma</td>\n",
       "    </tr>\n",
       "    <tr>\n",
       "      <th>4</th>\n",
       "      <td>4</td>\n",
       "      <td>greensboro</td>\n",
       "      <td>4900</td>\n",
       "      <td>NaN</td>\n",
       "      <td>NaN</td>\n",
       "      <td>NaN</td>\n",
       "      <td>NaN</td>\n",
       "      <td>NaN</td>\n",
       "      <td>NaN</td>\n",
       "      <td>NaN</td>\n",
       "      <td>NaN</td>\n",
       "      <td>NaN</td>\n",
       "      <td>NaN</td>\n",
       "      <td>NaN</td>\n",
       "      <td>NaN</td>\n",
       "      <td>NaN</td>\n",
       "      <td>nc</td>\n",
       "    </tr>\n",
       "  </tbody>\n",
       "</table>\n",
       "</div>"
      ],
      "text/plain": [
       "   index                  region  price  year manufacturer model condition  \\\n",
       "0      0                prescott   6000   NaN          NaN   NaN       NaN   \n",
       "1      1            fayetteville  11900   NaN          NaN   NaN       NaN   \n",
       "2      2            florida keys  21000   NaN          NaN   NaN       NaN   \n",
       "3      3  worcester / central MA   1500   NaN          NaN   NaN       NaN   \n",
       "4      4              greensboro   4900   NaN          NaN   NaN       NaN   \n",
       "\n",
       "  cylinders fuel  odometer title_status transmission drive size type  \\\n",
       "0       NaN  NaN       NaN          NaN          NaN   NaN  NaN  NaN   \n",
       "1       NaN  NaN       NaN          NaN          NaN   NaN  NaN  NaN   \n",
       "2       NaN  NaN       NaN          NaN          NaN   NaN  NaN  NaN   \n",
       "3       NaN  NaN       NaN          NaN          NaN   NaN  NaN  NaN   \n",
       "4       NaN  NaN       NaN          NaN          NaN   NaN  NaN  NaN   \n",
       "\n",
       "  paint_color state  \n",
       "0         NaN    az  \n",
       "1         NaN    ar  \n",
       "2         NaN    fl  \n",
       "3         NaN    ma  \n",
       "4         NaN    nc  "
      ]
     },
     "execution_count": 41,
     "metadata": {},
     "output_type": "execute_result"
    }
   ],
   "source": [
    "df = df.drop('VIN', axis=1)\n",
    "df.head(5)"
   ]
  },
  {
   "cell_type": "markdown",
   "metadata": {},
   "source": [
    "#### Size & Type\n",
    "There is missing 71% data however Type seems to be almost the same kind of data so merging the 2 together.\n"
   ]
  },
  {
   "cell_type": "code",
   "execution_count": 44,
   "metadata": {
    "tags": []
   },
   "outputs": [],
   "source": [
    "# Combine the Size and Type in a 'type' column\n",
    "def find_common(row):\n",
    "    if row['size'] == row['type']:\n",
    "        return row['size']\n",
    "    elif row['size'] != None:\n",
    "        return row['size'] \n",
    "    elif row['type'] != None :\n",
    "        return row['type'] \n",
    "    else:\n",
    "        return None\n",
    "df['type'] = df.apply(find_common, axis=1)"
   ]
  },
  {
   "cell_type": "code",
   "execution_count": 46,
   "metadata": {
    "tags": []
   },
   "outputs": [],
   "source": [
    "# type is not empty anymore, we can drop size column\n",
    "# df['type'].isna().sum()\n",
    "df = df.drop('size', axis=1)"
   ]
  },
  {
   "cell_type": "markdown",
   "metadata": {},
   "source": [
    "#### Cylinders \n",
    "There is 41% data missing for the Cylinders\n",
    "If the make and model are available the cylinders can be inferred for metadata of sale, so this column can be dropped too."
   ]
  },
  {
   "cell_type": "code",
   "execution_count": 51,
   "metadata": {
    "tags": []
   },
   "outputs": [],
   "source": [
    "#Drop cylinders as 41% data is missing\n",
    "df = df.drop(['cylinders'], axis=1)"
   ]
  },
  {
   "cell_type": "markdown",
   "metadata": {},
   "source": [
    "#### Year \n",
    "There are about 1300 rows with Year = NaN, year being the important part of the car value seems like these rows can be dropped"
   ]
  },
  {
   "cell_type": "code",
   "execution_count": 54,
   "metadata": {
    "tags": []
   },
   "outputs": [
    {
     "data": {
      "text/html": [
       "<div>\n",
       "<style scoped>\n",
       "    .dataframe tbody tr th:only-of-type {\n",
       "        vertical-align: middle;\n",
       "    }\n",
       "\n",
       "    .dataframe tbody tr th {\n",
       "        vertical-align: top;\n",
       "    }\n",
       "\n",
       "    .dataframe thead th {\n",
       "        text-align: right;\n",
       "    }\n",
       "</style>\n",
       "<table border=\"1\" class=\"dataframe\">\n",
       "  <thead>\n",
       "    <tr style=\"text-align: right;\">\n",
       "      <th></th>\n",
       "      <th>index</th>\n",
       "      <th>region</th>\n",
       "      <th>price</th>\n",
       "      <th>year</th>\n",
       "      <th>manufacturer</th>\n",
       "      <th>model</th>\n",
       "      <th>condition</th>\n",
       "      <th>fuel</th>\n",
       "      <th>odometer</th>\n",
       "      <th>title_status</th>\n",
       "      <th>transmission</th>\n",
       "      <th>drive</th>\n",
       "      <th>type</th>\n",
       "      <th>paint_color</th>\n",
       "      <th>state</th>\n",
       "    </tr>\n",
       "  </thead>\n",
       "  <tbody>\n",
       "    <tr>\n",
       "      <th>27</th>\n",
       "      <td>27</td>\n",
       "      <td>auburn</td>\n",
       "      <td>33590</td>\n",
       "      <td>2014.0</td>\n",
       "      <td>gmc</td>\n",
       "      <td>sierra 1500 crew cab slt</td>\n",
       "      <td>good</td>\n",
       "      <td>gas</td>\n",
       "      <td>57923.0</td>\n",
       "      <td>clean</td>\n",
       "      <td>other</td>\n",
       "      <td>NaN</td>\n",
       "      <td>NaN</td>\n",
       "      <td>white</td>\n",
       "      <td>al</td>\n",
       "    </tr>\n",
       "    <tr>\n",
       "      <th>28</th>\n",
       "      <td>28</td>\n",
       "      <td>auburn</td>\n",
       "      <td>22590</td>\n",
       "      <td>2010.0</td>\n",
       "      <td>chevrolet</td>\n",
       "      <td>silverado 1500</td>\n",
       "      <td>good</td>\n",
       "      <td>gas</td>\n",
       "      <td>71229.0</td>\n",
       "      <td>clean</td>\n",
       "      <td>other</td>\n",
       "      <td>NaN</td>\n",
       "      <td>NaN</td>\n",
       "      <td>blue</td>\n",
       "      <td>al</td>\n",
       "    </tr>\n",
       "    <tr>\n",
       "      <th>29</th>\n",
       "      <td>29</td>\n",
       "      <td>auburn</td>\n",
       "      <td>39590</td>\n",
       "      <td>2020.0</td>\n",
       "      <td>chevrolet</td>\n",
       "      <td>silverado 1500 crew</td>\n",
       "      <td>good</td>\n",
       "      <td>gas</td>\n",
       "      <td>19160.0</td>\n",
       "      <td>clean</td>\n",
       "      <td>other</td>\n",
       "      <td>NaN</td>\n",
       "      <td>NaN</td>\n",
       "      <td>red</td>\n",
       "      <td>al</td>\n",
       "    </tr>\n",
       "    <tr>\n",
       "      <th>30</th>\n",
       "      <td>30</td>\n",
       "      <td>auburn</td>\n",
       "      <td>30990</td>\n",
       "      <td>2017.0</td>\n",
       "      <td>toyota</td>\n",
       "      <td>tundra double cab sr</td>\n",
       "      <td>good</td>\n",
       "      <td>gas</td>\n",
       "      <td>41124.0</td>\n",
       "      <td>clean</td>\n",
       "      <td>other</td>\n",
       "      <td>NaN</td>\n",
       "      <td>NaN</td>\n",
       "      <td>red</td>\n",
       "      <td>al</td>\n",
       "    </tr>\n",
       "    <tr>\n",
       "      <th>31</th>\n",
       "      <td>31</td>\n",
       "      <td>auburn</td>\n",
       "      <td>15000</td>\n",
       "      <td>2013.0</td>\n",
       "      <td>ford</td>\n",
       "      <td>f-150 xlt</td>\n",
       "      <td>excellent</td>\n",
       "      <td>gas</td>\n",
       "      <td>128000.0</td>\n",
       "      <td>clean</td>\n",
       "      <td>automatic</td>\n",
       "      <td>rwd</td>\n",
       "      <td>full-size</td>\n",
       "      <td>black</td>\n",
       "      <td>al</td>\n",
       "    </tr>\n",
       "  </tbody>\n",
       "</table>\n",
       "</div>"
      ],
      "text/plain": [
       "    index  region  price    year manufacturer                     model  \\\n",
       "27     27  auburn  33590  2014.0          gmc  sierra 1500 crew cab slt   \n",
       "28     28  auburn  22590  2010.0    chevrolet            silverado 1500   \n",
       "29     29  auburn  39590  2020.0    chevrolet       silverado 1500 crew   \n",
       "30     30  auburn  30990  2017.0       toyota      tundra double cab sr   \n",
       "31     31  auburn  15000  2013.0         ford                 f-150 xlt   \n",
       "\n",
       "    condition fuel  odometer title_status transmission drive       type  \\\n",
       "27       good  gas   57923.0        clean        other   NaN        NaN   \n",
       "28       good  gas   71229.0        clean        other   NaN        NaN   \n",
       "29       good  gas   19160.0        clean        other   NaN        NaN   \n",
       "30       good  gas   41124.0        clean        other   NaN        NaN   \n",
       "31  excellent  gas  128000.0        clean    automatic   rwd  full-size   \n",
       "\n",
       "   paint_color state  \n",
       "27       white    al  \n",
       "28        blue    al  \n",
       "29         red    al  \n",
       "30         red    al  \n",
       "31       black    al  "
      ]
     },
     "execution_count": 54,
     "metadata": {},
     "output_type": "execute_result"
    }
   ],
   "source": [
    "df = df[df['year'].notna()].reindex()\n",
    "df.head()"
   ]
  },
  {
   "cell_type": "code",
   "execution_count": 56,
   "metadata": {
    "tags": []
   },
   "outputs": [],
   "source": [
    "# change the type of year to int\n",
    "df['year'] = df['year'].astype('int')"
   ]
  },
  {
   "cell_type": "code",
   "execution_count": 58,
   "metadata": {
    "tags": []
   },
   "outputs": [
    {
     "data": {
      "text/plain": [
       "<matplotlib.legend.Legend at 0x14d95f150>"
      ]
     },
     "execution_count": 58,
     "metadata": {},
     "output_type": "execute_result"
    },
    {
     "data": {
      "image/png": "[encoded data removed]",
      "text/plain": [
       "<Figure size 640x480 with 1 Axes>"
      ]
     },
     "metadata": {},
     "output_type": "display_data"
    }
   ],
   "source": [
    "df['year'].plot(kind='kde', xlim = 1950, title=\"Year is left skewed\")\n",
    "plt.axvline(df['year'].mean(), color = 'yellow', label = \"mean_year\")\n",
    "plt.axvline(df['year'].median(), color = 'green', label = \"median_year\")\n",
    "plt.legend()"
   ]
  },
  {
   "cell_type": "code",
   "execution_count": 59,
   "metadata": {
    "tags": []
   },
   "outputs": [],
   "source": [
    "df = df.set_index(df['year']).drop('year', axis=1)"
   ]
  },
  {
   "cell_type": "markdown",
   "metadata": {
    "tags": []
   },
   "source": [
    "#### Other data\n",
    "Size,  is an important factor of a car and around 30% of the values are null\n",
    "type, is also important for resale value \n"
   ]
  },
  {
   "cell_type": "code",
   "execution_count": 64,
   "metadata": {
    "tags": []
   },
   "outputs": [],
   "source": [
    "# Fill condition and cylinder values\n",
    "def fill_row(row):\n",
    "    row.fillna(method='bfill', inplace=True)\n",
    "    row.fillna(method='ffill', inplace=True)\n",
    "    return row\n",
    "df = df.apply(fill_row, axis=1)"
   ]
  },
  {
   "cell_type": "code",
   "execution_count": 65,
   "metadata": {},
   "outputs": [
    {
     "data": {
      "text/plain": [
       "index           0.0\n",
       "region          0.0\n",
       "price           0.0\n",
       "manufacturer    0.0\n",
       "model           0.0\n",
       "condition       0.0\n",
       "fuel            0.0\n",
       "odometer        0.0\n",
       "title_status    0.0\n",
       "transmission    0.0\n",
       "drive           0.0\n",
       "type            0.0\n",
       "paint_color     0.0\n",
       "state           0.0\n",
       "dtype: float64"
      ]
     },
     "execution_count": 65,
     "metadata": {},
     "output_type": "execute_result"
    }
   ],
   "source": [
    "# check for na values\n",
    "df.isna().mean().multiply(100)"
   ]
  },
  {
   "cell_type": "code",
   "execution_count": 66,
   "metadata": {
    "tags": []
   },
   "outputs": [],
   "source": [
    "def map_values(column, value, allowed_values):\n",
    "    return column.apply(lambda x: x if x in allowed_values else value)"
   ]
  },
  {
   "cell_type": "code",
   "execution_count": 67,
   "metadata": {
    "tags": []
   },
   "outputs": [
    {
     "data": {
      "text/plain": [
       "transmission\n",
       "automatic      335433\n",
       "other           62661\n",
       "manual          25093\n",
       "fwd               550\n",
       "4wd               469\n",
       "nc                290\n",
       "white             143\n",
       "pa                119\n",
       "va                118\n",
       "black             105\n",
       "compact            79\n",
       "ca                 66\n",
       "sub-compact        58\n",
       "custom             58\n",
       "fl                 51\n",
       "or                 48\n",
       "blue               47\n",
       "silver             44\n",
       "rwd                34\n",
       "red                29\n",
       "co                 25\n",
       "full-size          24\n",
       "grey               17\n",
       "brown              16\n",
       "ny                 12\n",
       "wa                 10\n",
       "il                 10\n",
       "green               8\n",
       "wi                  7\n",
       "sc                  6\n",
       "hi                  6\n",
       "tn                  5\n",
       "oh                  5\n",
       "ga                  5\n",
       "nj                  4\n",
       "tx                  3\n",
       "ia                  2\n",
       "ky                  2\n",
       "dc                  2\n",
       "yellow              2\n",
       "orange              2\n",
       "al                  1\n",
       "de                  1\n",
       "mo                  1\n",
       "mi                  1\n",
       "la                  1\n",
       "in                  1\n",
       "ct                  1\n",
       "Name: count, dtype: int64"
      ]
     },
     "execution_count": 67,
     "metadata": {},
     "output_type": "execute_result"
    }
   ],
   "source": [
    "df['transmission'].value_counts()"
   ]
  },
  {
   "cell_type": "code",
   "execution_count": 68,
   "metadata": {
    "tags": []
   },
   "outputs": [
    {
     "data": {
      "text/plain": [
       "transmission\n",
       "automatic    335433\n",
       "other         65149\n",
       "manual        25093\n",
       "Name: count, dtype: int64"
      ]
     },
     "execution_count": 68,
     "metadata": {},
     "output_type": "execute_result"
    }
   ],
   "source": [
    "# Map all other transmission values to 'other' category\n",
    "allowed_values =['automatic', 'other', 'manual']\n",
    "df['transmission'] = map_values(df['transmission'], 'other', allowed_values)\n",
    "df['transmission'].value_counts()"
   ]
  },
  {
   "cell_type": "code",
   "execution_count": 74,
   "metadata": {
    "tags": []
   },
   "outputs": [
    {
     "data": {
      "text/plain": [
       "fuel\n",
       "gas         355426\n",
       "other        30717\n",
       "diesel       29927\n",
       "hybrid        5165\n",
       "electric      1695\n",
       "             ...  \n",
       "13471.0          1\n",
       "74091.0          1\n",
       "39702.0          1\n",
       "60623.0          1\n",
       "501.0            1\n",
       "Name: count, Length: 1233, dtype: int64"
      ]
     },
     "execution_count": 74,
     "metadata": {},
     "output_type": "execute_result"
    }
   ],
   "source": [
    "df['fuel'].value_counts()"
   ]
  },
  {
   "cell_type": "code",
   "execution_count": 76,
   "metadata": {
    "tags": []
   },
   "outputs": [
    {
     "data": {
      "text/plain": [
       "fuel\n",
       "gas         358171\n",
       "other        30717\n",
       "diesel       29927\n",
       "hybrid        5165\n",
       "electric      1695\n",
       "Name: count, dtype: int64"
      ]
     },
     "execution_count": 76,
     "metadata": {},
     "output_type": "execute_result"
    }
   ],
   "source": [
    "allowed_values =['gas', 'other', 'hybrid', 'diesel','electric']\n",
    "df['fuel'] = map_values(df['fuel'], 'gas', allowed_values)\n",
    "df['fuel'].value_counts()"
   ]
  },
  {
   "cell_type": "code",
   "execution_count": 78,
   "metadata": {
    "tags": []
   },
   "outputs": [
    {
     "data": {
      "text/plain": [
       "condition\n",
       "gas          142311\n",
       "good         121456\n",
       "excellent    101457\n",
       "like new      21178\n",
       "diesel        16467\n",
       "              ...  \n",
       "16466.0           1\n",
       "13471.0           1\n",
       "74091.0           1\n",
       "39702.0           1\n",
       "501.0             1\n",
       "Name: count, Length: 1233, dtype: int64"
      ]
     },
     "execution_count": 78,
     "metadata": {},
     "output_type": "execute_result"
    }
   ],
   "source": [
    "# Looks like a mix up of data, between fuel and condition\n",
    "# This cleanup can take a bit more precision in a real life scenario \n",
    "# however for the purposes of this excercise I am going to drop this\n",
    "# field as the top values are corrupted\n",
    "df['condition'].value_counts()"
   ]
  },
  {
   "cell_type": "code",
   "execution_count": 80,
   "metadata": {
    "tags": []
   },
   "outputs": [],
   "source": [
    "df = df.drop('condition', axis=1)"
   ]
  },
  {
   "cell_type": "code",
   "execution_count": 82,
   "metadata": {
    "tags": []
   },
   "outputs": [
    {
     "data": {
      "text/plain": [
       "odometer\n",
       "clean       3752\n",
       "100000.0    2263\n",
       "1.0         2239\n",
       "0.0         1943\n",
       "200000.0    1728\n",
       "            ... \n",
       "201471.0       1\n",
       "104865.0       1\n",
       "30024.0        1\n",
       "26306.0        1\n",
       "26892.0        1\n",
       "Name: count, Length: 104640, dtype: int64"
      ]
     },
     "execution_count": 82,
     "metadata": {},
     "output_type": "execute_result"
    }
   ],
   "source": [
    "df['odometer'].value_counts()"
   ]
  },
  {
   "cell_type": "code",
   "execution_count": 84,
   "metadata": {
    "tags": []
   },
   "outputs": [],
   "source": [
    "condition = df['odometer']=='clean'\n",
    "new_value = 1.0\n",
    "df.loc[condition, 'odometer'] = new_value"
   ]
  },
  {
   "cell_type": "code",
   "execution_count": 86,
   "metadata": {
    "tags": []
   },
   "outputs": [
    {
     "data": {
      "text/plain": [
       "odometer\n",
       "1.0         5991\n",
       "100000.0    2263\n",
       "0.0         1943\n",
       "200000.0    1728\n",
       "150000.0    1603\n",
       "            ... \n",
       "201471.0       1\n",
       "104865.0       1\n",
       "30024.0        1\n",
       "26306.0        1\n",
       "26892.0        1\n",
       "Name: count, Length: 104639, dtype: int64"
      ]
     },
     "execution_count": 86,
     "metadata": {},
     "output_type": "execute_result"
    }
   ],
   "source": [
    "df['odometer'].value_counts()"
   ]
  },
  {
   "cell_type": "code",
   "execution_count": 88,
   "metadata": {
    "tags": []
   },
   "outputs": [
    {
     "data": {
      "text/plain": [
       "odometer\n",
       "1.0         6570\n",
       "100000.0    2263\n",
       "0.0         1943\n",
       "200000.0    1728\n",
       "150000.0    1603\n",
       "            ... \n",
       "89378.0        1\n",
       "102689.0       1\n",
       "135958.0       1\n",
       "150237.0       1\n",
       "26892.0        1\n",
       "Name: count, Length: 104630, dtype: int64"
      ]
     },
     "execution_count": 88,
     "metadata": {},
     "output_type": "execute_result"
    }
   ],
   "source": [
    "df['odometer'] = df['odometer'].apply(pd.to_numeric, errors='coerce')\n",
    "df['odometer'] = df['odometer'].fillna(1).astype(float)\n",
    "df['odometer'].value_counts()"
   ]
  },
  {
   "cell_type": "code",
   "execution_count": 90,
   "metadata": {
    "tags": []
   },
   "outputs": [
    {
     "data": {
      "text/plain": [
       "title_status\n",
       "clean         404334\n",
       "rebuilt         7109\n",
       "automatic       6454\n",
       "salvage         3868\n",
       "lien            1422\n",
       "missing          814\n",
       "other            597\n",
       "nc               286\n",
       "manual           264\n",
       "parts only       198\n",
       "pa               117\n",
       "va               116\n",
       "or                42\n",
       "fl                41\n",
       "ca                 9\n",
       "ga                 3\n",
       "tn                 1\n",
       "Name: count, dtype: int64"
      ]
     },
     "execution_count": 90,
     "metadata": {},
     "output_type": "execute_result"
    }
   ],
   "source": [
    "df['title_status'].value_counts()"
   ]
  },
  {
   "cell_type": "code",
   "execution_count": 92,
   "metadata": {
    "tags": []
   },
   "outputs": [
    {
     "data": {
      "text/plain": [
       "title_status\n",
       "clean         404334\n",
       "other           7930\n",
       "rebuilt         7109\n",
       "salvage         3868\n",
       "lien            1422\n",
       "missing          814\n",
       "parts only       198\n",
       "Name: count, dtype: int64"
      ]
     },
     "execution_count": 92,
     "metadata": {},
     "output_type": "execute_result"
    }
   ],
   "source": [
    "# clean up title_status\n",
    "allowed_values =['clean', 'rebuilt', 'salvage', 'lien','missing','parts only','other']\n",
    "df['title_status'] = map_values(df['title_status'], 'other', allowed_values)\n",
    "df['title_status'].value_counts()"
   ]
  },
  {
   "cell_type": "code",
   "execution_count": 94,
   "metadata": {
    "tags": []
   },
   "outputs": [
    {
     "data": {
      "text/plain": [
       "transmission\n",
       "automatic    335433\n",
       "other         65149\n",
       "manual        25093\n",
       "Name: count, dtype: int64"
      ]
     },
     "execution_count": 94,
     "metadata": {},
     "output_type": "execute_result"
    }
   ],
   "source": [
    "# clean up transmission\n",
    "allowed_values =['automatic', 'other', 'manual']\n",
    "df['transmission'] = map_values(df['transmission'], 'other', allowed_values)\n",
    "df['transmission'].value_counts()"
   ]
  },
  {
   "cell_type": "code",
   "execution_count": 96,
   "metadata": {
    "tags": []
   },
   "outputs": [
    {
     "data": {
      "text/plain": [
       "drive\n",
       "4wd       131515\n",
       "fwd       105138\n",
       "rwd        58755\n",
       "white      15662\n",
       "black      12608\n",
       "           ...  \n",
       "ut            93\n",
       "wv            90\n",
       "purple        80\n",
       "wy            74\n",
       "nd            50\n",
       "Name: count, Length: 70, dtype: int64"
      ]
     },
     "execution_count": 96,
     "metadata": {},
     "output_type": "execute_result"
    }
   ],
   "source": [
    "df['drive'].value_counts()"
   ]
  },
  {
   "cell_type": "code",
   "execution_count": 98,
   "metadata": {
    "tags": []
   },
   "outputs": [
    {
     "data": {
      "text/plain": [
       "drive\n",
       "fwd    235405\n",
       "4wd    131515\n",
       "rwd     58755\n",
       "Name: count, dtype: int64"
      ]
     },
     "execution_count": 98,
     "metadata": {},
     "output_type": "execute_result"
    }
   ],
   "source": [
    "# clean up drive\n",
    "allowed_values =['4wd', 'fwd', 'rwd']\n",
    "df['drive'] = map_values(df['drive'], 'fwd', allowed_values)\n",
    "df['drive'].value_counts()"
   ]
  },
  {
   "cell_type": "code",
   "execution_count": 100,
   "metadata": {
    "tags": []
   },
   "outputs": [
    {
     "data": {
      "text/plain": [
       "paint_color\n",
       "unknown    134857\n",
       "white       78923\n",
       "black       62661\n",
       "silver      42835\n",
       "blue        31156\n",
       "red         30362\n",
       "grey        24261\n",
       "green        7340\n",
       "custom       6700\n",
       "brown        6580\n",
       "Name: count, dtype: int64"
      ]
     },
     "execution_count": 100,
     "metadata": {},
     "output_type": "execute_result"
    }
   ],
   "source": [
    "# clean up paint color\n",
    "allowed_values =['white', 'black', 'silver', 'blue', \n",
    "                 'red', 'grey', 'green','custom', \n",
    "                 'brown', 'unknown']\n",
    "df['paint_color'] = map_values(df['paint_color'], 'unknown', allowed_values)\n",
    "df['paint_color'].value_counts()"
   ]
  },
  {
   "cell_type": "code",
   "execution_count": 102,
   "metadata": {
    "tags": []
   },
   "outputs": [
    {
     "data": {
      "text/html": [
       "<div>\n",
       "<style scoped>\n",
       "    .dataframe tbody tr th:only-of-type {\n",
       "        vertical-align: middle;\n",
       "    }\n",
       "\n",
       "    .dataframe tbody tr th {\n",
       "        vertical-align: top;\n",
       "    }\n",
       "\n",
       "    .dataframe thead th {\n",
       "        text-align: right;\n",
       "    }\n",
       "</style>\n",
       "<table border=\"1\" class=\"dataframe\">\n",
       "  <thead>\n",
       "    <tr style=\"text-align: right;\">\n",
       "      <th></th>\n",
       "      <th>index</th>\n",
       "      <th>region</th>\n",
       "      <th>price</th>\n",
       "      <th>manufacturer</th>\n",
       "      <th>model</th>\n",
       "      <th>fuel</th>\n",
       "      <th>odometer</th>\n",
       "      <th>title_status</th>\n",
       "      <th>transmission</th>\n",
       "      <th>drive</th>\n",
       "      <th>type</th>\n",
       "      <th>paint_color</th>\n",
       "      <th>state</th>\n",
       "    </tr>\n",
       "    <tr>\n",
       "      <th>year</th>\n",
       "      <th></th>\n",
       "      <th></th>\n",
       "      <th></th>\n",
       "      <th></th>\n",
       "      <th></th>\n",
       "      <th></th>\n",
       "      <th></th>\n",
       "      <th></th>\n",
       "      <th></th>\n",
       "      <th></th>\n",
       "      <th></th>\n",
       "      <th></th>\n",
       "      <th></th>\n",
       "    </tr>\n",
       "  </thead>\n",
       "  <tbody>\n",
       "    <tr>\n",
       "      <th>2014</th>\n",
       "      <td>27</td>\n",
       "      <td>auburn</td>\n",
       "      <td>33590</td>\n",
       "      <td>gmc</td>\n",
       "      <td>sierra 1500 crew cab slt</td>\n",
       "      <td>gas</td>\n",
       "      <td>57923.0</td>\n",
       "      <td>clean</td>\n",
       "      <td>other</td>\n",
       "      <td>fwd</td>\n",
       "      <td>white</td>\n",
       "      <td>white</td>\n",
       "      <td>al</td>\n",
       "    </tr>\n",
       "    <tr>\n",
       "      <th>2010</th>\n",
       "      <td>28</td>\n",
       "      <td>auburn</td>\n",
       "      <td>22590</td>\n",
       "      <td>chevrolet</td>\n",
       "      <td>silverado 1500</td>\n",
       "      <td>gas</td>\n",
       "      <td>71229.0</td>\n",
       "      <td>clean</td>\n",
       "      <td>other</td>\n",
       "      <td>fwd</td>\n",
       "      <td>blue</td>\n",
       "      <td>blue</td>\n",
       "      <td>al</td>\n",
       "    </tr>\n",
       "    <tr>\n",
       "      <th>2020</th>\n",
       "      <td>29</td>\n",
       "      <td>auburn</td>\n",
       "      <td>39590</td>\n",
       "      <td>chevrolet</td>\n",
       "      <td>silverado 1500 crew</td>\n",
       "      <td>gas</td>\n",
       "      <td>19160.0</td>\n",
       "      <td>clean</td>\n",
       "      <td>other</td>\n",
       "      <td>fwd</td>\n",
       "      <td>red</td>\n",
       "      <td>red</td>\n",
       "      <td>al</td>\n",
       "    </tr>\n",
       "    <tr>\n",
       "      <th>2017</th>\n",
       "      <td>30</td>\n",
       "      <td>auburn</td>\n",
       "      <td>30990</td>\n",
       "      <td>toyota</td>\n",
       "      <td>tundra double cab sr</td>\n",
       "      <td>gas</td>\n",
       "      <td>41124.0</td>\n",
       "      <td>clean</td>\n",
       "      <td>other</td>\n",
       "      <td>fwd</td>\n",
       "      <td>red</td>\n",
       "      <td>red</td>\n",
       "      <td>al</td>\n",
       "    </tr>\n",
       "    <tr>\n",
       "      <th>2013</th>\n",
       "      <td>31</td>\n",
       "      <td>auburn</td>\n",
       "      <td>15000</td>\n",
       "      <td>ford</td>\n",
       "      <td>f-150 xlt</td>\n",
       "      <td>gas</td>\n",
       "      <td>128000.0</td>\n",
       "      <td>clean</td>\n",
       "      <td>automatic</td>\n",
       "      <td>rwd</td>\n",
       "      <td>full-size</td>\n",
       "      <td>black</td>\n",
       "      <td>al</td>\n",
       "    </tr>\n",
       "  </tbody>\n",
       "</table>\n",
       "</div>"
      ],
      "text/plain": [
       "      index  region  price manufacturer                     model fuel  \\\n",
       "year                                                                     \n",
       "2014     27  auburn  33590          gmc  sierra 1500 crew cab slt  gas   \n",
       "2010     28  auburn  22590    chevrolet            silverado 1500  gas   \n",
       "2020     29  auburn  39590    chevrolet       silverado 1500 crew  gas   \n",
       "2017     30  auburn  30990       toyota      tundra double cab sr  gas   \n",
       "2013     31  auburn  15000         ford                 f-150 xlt  gas   \n",
       "\n",
       "      odometer title_status transmission drive       type paint_color state  \n",
       "year                                                                         \n",
       "2014   57923.0        clean        other   fwd      white       white    al  \n",
       "2010   71229.0        clean        other   fwd       blue        blue    al  \n",
       "2020   19160.0        clean        other   fwd        red         red    al  \n",
       "2017   41124.0        clean        other   fwd        red         red    al  \n",
       "2013  128000.0        clean    automatic   rwd  full-size       black    al  "
      ]
     },
     "execution_count": 102,
     "metadata": {},
     "output_type": "execute_result"
    }
   ],
   "source": [
    "df.head()"
   ]
  },
  {
   "cell_type": "code",
   "execution_count": 104,
   "metadata": {
    "tags": []
   },
   "outputs": [
    {
     "data": {
      "text/plain": [
       "(425675, 13)"
      ]
     },
     "execution_count": 104,
     "metadata": {},
     "output_type": "execute_result"
    }
   ],
   "source": [
    "df.shape"
   ]
  },
  {
   "cell_type": "code",
   "execution_count": 106,
   "metadata": {
    "tags": []
   },
   "outputs": [
    {
     "data": {
      "text/html": [
       "<div>\n",
       "<style scoped>\n",
       "    .dataframe tbody tr th:only-of-type {\n",
       "        vertical-align: middle;\n",
       "    }\n",
       "\n",
       "    .dataframe tbody tr th {\n",
       "        vertical-align: top;\n",
       "    }\n",
       "\n",
       "    .dataframe thead th {\n",
       "        text-align: right;\n",
       "    }\n",
       "</style>\n",
       "<table border=\"1\" class=\"dataframe\">\n",
       "  <thead>\n",
       "    <tr style=\"text-align: right;\">\n",
       "      <th></th>\n",
       "      <th>index</th>\n",
       "      <th>region</th>\n",
       "      <th>price</th>\n",
       "      <th>manufacturer</th>\n",
       "      <th>model</th>\n",
       "      <th>fuel</th>\n",
       "      <th>odometer</th>\n",
       "      <th>title_status</th>\n",
       "      <th>transmission</th>\n",
       "      <th>drive</th>\n",
       "      <th>type</th>\n",
       "      <th>paint_color</th>\n",
       "      <th>state</th>\n",
       "    </tr>\n",
       "    <tr>\n",
       "      <th>year</th>\n",
       "      <th></th>\n",
       "      <th></th>\n",
       "      <th></th>\n",
       "      <th></th>\n",
       "      <th></th>\n",
       "      <th></th>\n",
       "      <th></th>\n",
       "      <th></th>\n",
       "      <th></th>\n",
       "      <th></th>\n",
       "      <th></th>\n",
       "      <th></th>\n",
       "      <th></th>\n",
       "    </tr>\n",
       "  </thead>\n",
       "  <tbody>\n",
       "    <tr>\n",
       "      <th>2014</th>\n",
       "      <td>27</td>\n",
       "      <td>auburn</td>\n",
       "      <td>33590</td>\n",
       "      <td>gmc</td>\n",
       "      <td>sierra 1500 crew cab slt</td>\n",
       "      <td>gas</td>\n",
       "      <td>57923.0</td>\n",
       "      <td>clean</td>\n",
       "      <td>other</td>\n",
       "      <td>fwd</td>\n",
       "      <td>white</td>\n",
       "      <td>white</td>\n",
       "      <td>al</td>\n",
       "    </tr>\n",
       "    <tr>\n",
       "      <th>2010</th>\n",
       "      <td>28</td>\n",
       "      <td>auburn</td>\n",
       "      <td>22590</td>\n",
       "      <td>chevrolet</td>\n",
       "      <td>silverado 1500</td>\n",
       "      <td>gas</td>\n",
       "      <td>71229.0</td>\n",
       "      <td>clean</td>\n",
       "      <td>other</td>\n",
       "      <td>fwd</td>\n",
       "      <td>blue</td>\n",
       "      <td>blue</td>\n",
       "      <td>al</td>\n",
       "    </tr>\n",
       "    <tr>\n",
       "      <th>2020</th>\n",
       "      <td>29</td>\n",
       "      <td>auburn</td>\n",
       "      <td>39590</td>\n",
       "      <td>chevrolet</td>\n",
       "      <td>silverado 1500 crew</td>\n",
       "      <td>gas</td>\n",
       "      <td>19160.0</td>\n",
       "      <td>clean</td>\n",
       "      <td>other</td>\n",
       "      <td>fwd</td>\n",
       "      <td>red</td>\n",
       "      <td>red</td>\n",
       "      <td>al</td>\n",
       "    </tr>\n",
       "    <tr>\n",
       "      <th>2017</th>\n",
       "      <td>30</td>\n",
       "      <td>auburn</td>\n",
       "      <td>30990</td>\n",
       "      <td>toyota</td>\n",
       "      <td>tundra double cab sr</td>\n",
       "      <td>gas</td>\n",
       "      <td>41124.0</td>\n",
       "      <td>clean</td>\n",
       "      <td>other</td>\n",
       "      <td>fwd</td>\n",
       "      <td>red</td>\n",
       "      <td>red</td>\n",
       "      <td>al</td>\n",
       "    </tr>\n",
       "    <tr>\n",
       "      <th>2013</th>\n",
       "      <td>31</td>\n",
       "      <td>auburn</td>\n",
       "      <td>15000</td>\n",
       "      <td>ford</td>\n",
       "      <td>f-150 xlt</td>\n",
       "      <td>gas</td>\n",
       "      <td>128000.0</td>\n",
       "      <td>clean</td>\n",
       "      <td>automatic</td>\n",
       "      <td>rwd</td>\n",
       "      <td>full-size</td>\n",
       "      <td>black</td>\n",
       "      <td>al</td>\n",
       "    </tr>\n",
       "  </tbody>\n",
       "</table>\n",
       "</div>"
      ],
      "text/plain": [
       "      index  region  price manufacturer                     model fuel  \\\n",
       "year                                                                     \n",
       "2014     27  auburn  33590          gmc  sierra 1500 crew cab slt  gas   \n",
       "2010     28  auburn  22590    chevrolet            silverado 1500  gas   \n",
       "2020     29  auburn  39590    chevrolet       silverado 1500 crew  gas   \n",
       "2017     30  auburn  30990       toyota      tundra double cab sr  gas   \n",
       "2013     31  auburn  15000         ford                 f-150 xlt  gas   \n",
       "\n",
       "      odometer title_status transmission drive       type paint_color state  \n",
       "year                                                                         \n",
       "2014   57923.0        clean        other   fwd      white       white    al  \n",
       "2010   71229.0        clean        other   fwd       blue        blue    al  \n",
       "2020   19160.0        clean        other   fwd        red         red    al  \n",
       "2017   41124.0        clean        other   fwd        red         red    al  \n",
       "2013  128000.0        clean    automatic   rwd  full-size       black    al  "
      ]
     },
     "execution_count": 106,
     "metadata": {},
     "output_type": "execute_result"
    }
   ],
   "source": [
    "df.head()"
   ]
  },
  {
   "cell_type": "code",
   "execution_count": 110,
   "metadata": {
    "tags": []
   },
   "outputs": [],
   "source": [
    "# These columns are very large to be one-hot-encoded\n",
    "df = df.drop(columns=['region','model', 'manufacturer'], axis=1)"
   ]
  },
  {
   "cell_type": "markdown",
   "metadata": {
    "tags": []
   },
   "source": [
    "### Modeling\n",
    "\n",
    "With your (almost?) final dataset in hand, it is now time to build some models.  Here, you should build a number of different regression models with the price as the target.  In building your models, you should explore different parameters and be sure to cross-validate your findings."
   ]
  },
  {
   "cell_type": "code",
   "execution_count": 458,
   "metadata": {
    "tags": []
   },
   "outputs": [],
   "source": [
    "X = df.drop(columns=['price'], axis=1)\n",
    "y = df['price']"
   ]
  },
  {
   "cell_type": "code",
   "execution_count": 460,
   "metadata": {
    "tags": []
   },
   "outputs": [],
   "source": [
    "X_train, X_test, y_train, y_test = train_test_split(X, y, test_size=0.2, random_state=42)"
   ]
  },
  {
   "cell_type": "code",
   "execution_count": 124,
   "metadata": {},
   "outputs": [],
   "source": [
    "from sklearn.pipeline import Pipeline\n",
    "from sklearn.compose import ColumnTransformer\n",
    "from sklearn.preprocessing import OneHotEncoder, StandardScaler\n",
    "from sklearn.linear_model import Ridge\n",
    "from sklearn.model_selection import train_test_split\n",
    "import pandas as pd\n",
    "from sklearn.compose import  TransformedTargetRegressor\n",
    "\n",
    "\n",
    "def generate_model_comparison (X_train, y_train) :\n",
    "    numeric_features = ['odometer']\n",
    "    categorical_features = ['fuel', 'title_status', 'transmission', 'drive', 'type','paint_color','state' ]\n",
    "\n",
    "    preprocessor = ColumnTransformer(\n",
    "        transformers=[\n",
    "            ('num', StandardScaler(), numeric_features),\n",
    "            ('cat', OneHotEncoder(), categorical_features)\n",
    "        ])\n",
    "\n",
    "    # Create pipelines for Ridge, Lasso and Linear models\n",
    "    ridge_pipeline = Pipeline([\n",
    "        ('preprocessor', preprocessor),\n",
    "        ('regressor', Ridge())\n",
    "    ])\n",
    "\n",
    "    lasso_pipeline = Pipeline([\n",
    "        ('preprocessor', preprocessor),\n",
    "        ('regressor', Lasso())\n",
    "    ])\n",
    "\n",
    "    linear_pipeline = Pipeline([\n",
    "        ('preprocessor', preprocessor),\n",
    "        ('regressor', LinearRegression())\n",
    "    ])\n",
    "\n",
    "    # Define hyperparameters grid for each model\n",
    "    ridge_param_grid = {'regressor__alpha': [0.001, 0.1, 1.0, 10.0]}\n",
    "    lasso_param_grid = {'regressor__alpha': [0.001, 0.1, 1.0, 10.0]}\n",
    "    linear_param_grid = {}\n",
    "\n",
    "    # Create GridSearchCV for Ridge, Lasso and Linear\n",
    "    ridge_grid_search = GridSearchCV(ridge_pipeline, ridge_param_grid)\n",
    "    lasso_grid_search = GridSearchCV(lasso_pipeline, lasso_param_grid)\n",
    "    linear_grid_search = GridSearchCV(linear_pipeline, linear_param_grid)\n",
    "\n",
    "    # Fit GridSearchCV on training data for Ridge, Lasso and Linear respectively\n",
    "    ridge_grid_search.fit(X_train, y_train)\n",
    "    lasso_grid_search.fit(X_train, y_train)\n",
    "    linear_grid_search.fit(X_train, y_train)\n",
    "    \n",
    "    return [ridge_grid_search, lasso_grid_search, linear_grid_search]\n",
    "\n"
   ]
  },
  {
   "cell_type": "code",
   "execution_count": 134,
   "metadata": {
    "tags": []
   },
   "outputs": [],
   "source": [
    "def print_model_comparison(ridge_grid_search, lasso_grid_search, linear_grid_search):\n",
    "    # Best parameters and scores for each model\n",
    "    print(\"Ridge:\")\n",
    "    print(\"\\tBest parameters:\", ridge_grid_search.best_params_)\n",
    "    print(\"\\tBest score:\", ridge_grid_search.best_score_)\n",
    "\n",
    "    print(\"Lasso:\")\n",
    "    print(\"\\tBest parameters:\", lasso_grid_search.best_params_)\n",
    "    print(\"\\tBest score:\", lasso_grid_search.best_score_)\n",
    "\n",
    "    print(\"Linear:\")\n",
    "    print(\"\\tBest parameters:\", linear_grid_search.best_params_)\n",
    "    print(\"\\tBest score:\", linear_grid_search.best_score_)\n"
   ]
  },
  {
   "cell_type": "code",
   "execution_count": 502,
   "metadata": {},
   "outputs": [],
   "source": [
    "from sklearn.metrics import mean_absolute_error\n",
    "\n",
    "def get_ridge_model_mae(X_train, y_train, X_test, y_test):\n",
    "    # Ridge Model\n",
    "    ridge_pipeline.fit(X_train, y_train)\n",
    "    ridge_train_pred = ridge_pipeline.predict(X_train)\n",
    "    ridge_test_pred = ridge_pipeline.predict(X_test)\n",
    "\n",
    "    rfe_train_mae = mean_absolute_error(y_train, ridge_train_pred)\n",
    "    rfe_test_mae = mean_absolute_error(y_test, ridge_test_pred)\n",
    "\n",
    "    return [rfe_train_mae, rfe_test_mae]"
   ]
  },
  {
   "cell_type": "code",
   "execution_count": 504,
   "metadata": {
    "tags": []
   },
   "outputs": [],
   "source": [
    "def get_lasso_model_mae(X_train, y_train, X_test, y_test):\n",
    "    # Lasso\n",
    "    lasso_pipeline.fit(X_train, y_train)\n",
    "    lasso_train_pred = lasso_pipeline.predict(X_train)\n",
    "    lasso_test_pred = lasso_pipeline.predict(X_test)\n",
    "\n",
    "    lasso_train_mae = mean_absolute_error(y_train, lasso_train_pred)\n",
    "    lasso_test_mae = mean_absolute_error(y_test, lasso_test_pred)\n",
    "    \n",
    "    return [lasso_train_mae, lasso_test_mae]"
   ]
  },
  {
   "cell_type": "code",
   "execution_count": 506,
   "metadata": {
    "tags": []
   },
   "outputs": [],
   "source": [
    " def get_linear_model_mae(X_train, y_train, X_test, y_test):\n",
    "    #Linear\n",
    "    linear_pipeline.fit(X_train, y_train)\n",
    "    linear_train_pred = linear_pipeline.predict(X_train)\n",
    "    linear_test_pred = linear_pipeline.predict(X_test)\n",
    "\n",
    "    linear_train_mae = mean_absolute_error(y_train, linear_train_pred)\n",
    "    linear_test_mae = mean_absolute_error(y_test, linear_test_pred)\n",
    "    \n",
    "    return [linear_train_mae, linear_test_mae]\n"
   ]
  },
  {
   "cell_type": "code",
   "execution_count": 508,
   "metadata": {
    "tags": []
   },
   "outputs": [],
   "source": [
    "def get_and_print_mae(X_train, y_train, X_test, y_test):\n",
    "    results = []\n",
    "    train_mae, test_mae = get_ridge_model_mae(X_train, y_train, X_test, y_test) \n",
    "    results.append([\"Ridge\", train_mae, test_mae])\n",
    "    print(f\"Ridge\\n \\tTrain: {train_mae}, \\n\\tTest: {test_mae}\") \n",
    "    train_mae, test_mae = get_lasso_model_mae(X_train, y_train, X_test, y_test) \n",
    "    results.append([\"Lasso\", train_mae, test_mae])\n",
    "    print(f\"Lasso\\n \\tTrain: {train_mae}, \\n\\tTest, {test_mae}\")\n",
    "    train_mae, test_mae = get_linear_model_mae(X_train, y_train, X_test, y_test) \n",
    "    results.append([\"Linear\", train_mae, test_mae])\n",
    "    print(f\"Linear\\n \\tTrain: {train_mae}, \\n\\tTest, {test_mae}\")\n",
    "    \n",
    "    return pd.DataFrame(results, columns=[\"name\",\"train_mae\",\"test_mae\"])\n",
    "    \n",
    "    "
   ]
  },
  {
   "cell_type": "code",
   "execution_count": 510,
   "metadata": {
    "tags": []
   },
   "outputs": [
    {
     "name": "stdout",
     "output_type": "stream",
     "text": [
      "Ridge:\n",
      "\tBest parameters: {'regressor__alpha': 10.0}\n",
      "\tBest score: -0.004144692960769891\n",
      "Lasso:\n",
      "\tBest parameters: {'regressor__alpha': 10.0}\n",
      "\tBest score: -0.0044931910389772066\n",
      "Linear:\n",
      "\tBest parameters: {}\n",
      "\tBest score: -0.004501743709656436\n"
     ]
    }
   ],
   "source": [
    "ridge, lasso, linear = generate_model_comparison (X_train, y_train)\n",
    "print_model_comparison(ridge, lasso, linear)"
   ]
  },
  {
   "cell_type": "code",
   "execution_count": 512,
   "metadata": {
    "tags": []
   },
   "outputs": [
    {
     "name": "stdout",
     "output_type": "stream",
     "text": [
      "Ridge\n",
      " \tTrain: 154609.25453668088, \n",
      "\tTest: 170448.82348333663\n",
      "Lasso\n",
      " \tTrain: 154648.63979480517, \n",
      "\tTest, 170472.72848152585\n",
      "Linear\n",
      " \tTrain: 154702.28144307935, \n",
      "\tTest, 170522.78857882193\n"
     ]
    }
   ],
   "source": [
    "df_results = get_and_print_mae(X_train, y_train, X_test, y_test)"
   ]
  },
  {
   "cell_type": "code",
   "execution_count": 514,
   "metadata": {
    "tags": []
   },
   "outputs": [
    {
     "data": {
      "image/png": "[encoded data removed]"
     },
     "metadata": {},
     "output_type": "display_data"
    }
   ],
   "source": [
    "fig = px.bar(df_results, x=df_results['name'], y=[df_results['train_mae'], \n",
    "                                            df_results['test_mae']],\n",
    "       text_auto=True, barmode='group',\n",
    "       width=950,\n",
    "       height=450,\n",
    "       title=\"Mean squared Error\"\n",
    "      )\n",
    "fig.show(\"png\")"
   ]
  },
  {
   "cell_type": "code",
   "execution_count": 516,
   "metadata": {
    "tags": []
   },
   "outputs": [],
   "source": [
    "# The mean squared error is too high in the range of $100K so it's not a very good idea to use it. \n",
    "# I am going to use the mean absolute value"
   ]
  },
  {
   "cell_type": "code",
   "execution_count": 475,
   "metadata": {
    "tags": []
   },
   "outputs": [
    {
     "data": {
      "image/png": "[encoded data removed]"
     },
     "metadata": {},
     "output_type": "display_data"
    }
   ],
   "source": [
    "fig = px.bar(df_results, x=df_results['name'], y=[df_results['train_mae'], \n",
    "                                            df_results['test_mae']],\n",
    "       text_auto=True, barmode='group',\n",
    "       width=950,\n",
    "       height=450,\n",
    "       title=\"Mean absolute Error\"\n",
    "      )\n",
    "fig.show(\"png\")"
   ]
  },
  {
   "cell_type": "markdown",
   "metadata": {
    "tags": []
   },
   "source": [
    "### Evaluation\n",
    "\n",
    "With some modeling accomplished, we aim to reflect on what we identify as a high quality model and what we are able to learn from this.  We should review our business objective and explore how well we can provide meaningful insight on drivers of used car prices.  Your goal now is to distill your findings and determine whether the earlier phases need revisitation and adjustment or if you have information of value to bring back to your client."
   ]
  },
  {
   "cell_type": "code",
   "execution_count": 322,
   "metadata": {
    "tags": []
   },
   "outputs": [
    {
     "data": {
      "text/plain": [
       "75305.64274152817"
      ]
     },
     "execution_count": 322,
     "metadata": {},
     "output_type": "execute_result"
    }
   ],
   "source": [
    "# Average price of the car\n",
    "y.mean()"
   ]
  },
  {
   "cell_type": "code",
   "execution_count": 377,
   "metadata": {
    "tags": []
   },
   "outputs": [
    {
     "name": "stdout",
     "output_type": "stream",
     "text": [
      "Ridge score: 0.0012449391839116641\n",
      "Lasso score: 0.0012449636219981075\n"
     ]
    }
   ],
   "source": [
    "print(f\"Ridge score:\", ridge_pipeline.score(X_train, y_train))\n",
    "print(f\"Lasso score:\", lasso_pipeline.score(X_train, y_train))"
   ]
  },
  {
   "cell_type": "code",
   "execution_count": 427,
   "metadata": {
    "tags": []
   },
   "outputs": [
    {
     "name": "stdout",
     "output_type": "stream",
     "text": [
      "type    :  293.073 +/-  3.419\n",
      "paint_color:  251.201 +/-  3.509\n",
      "state   :  38.035 +/-  2.057\n",
      "drive   :  7.059 +/-  0.758\n",
      "title_status:  2.194 +/-  0.458\n"
     ]
    }
   ],
   "source": [
    "from sklearn.inspection import permutation_importance\n",
    "r = permutation_importance(linear_pipeline, X_test, y_test,\n",
    "                           n_repeats=30,\n",
    "                           random_state=0)\n",
    "for i in r.importances_mean.argsort()[::-1]:\n",
    "    if r.importances_mean[i] - 2 * r.importances_std[i] > 0:\n",
    "        print(f\"{X.columns[i]:<8}: \"\n",
    "              f\"{r.importances_mean[i]: .3f}\"\n",
    "              f\" +/- {r.importances_std[i]: .3f}\")"
   ]
  },
  {
   "cell_type": "code",
   "execution_count": 325,
   "metadata": {
    "tags": []
   },
   "outputs": [],
   "source": [
    "# Upon evaluation of the model it clearly seems that \n",
    "# type, paint_color, odometer, transmission are important factors \n",
    "# in determining the price\n",
    "# The Linear model very slightly seems to be doing the better than ridge\n",
    "#           Linear\n",
    "#            Train: 7245.05\n",
    "#            Test: 7244.83\n",
    "\n",
    "# However when compared to the mean price value\n",
    "#   Mean Price = 75305.64\n",
    "# the model diffrential is much higher\n",
    "# The next set of re-evaluation would be to remove the cars which are:\n",
    "# 1. Luxury or collectibles and cost > $50K\n",
    "# 2. Remove cars which have low value (<500) \n",
    "# and rerun the analysis "
   ]
  },
  {
   "cell_type": "code",
   "execution_count": 381,
   "metadata": {
    "tags": []
   },
   "outputs": [
    {
     "data": {
      "text/html": [
       "<div>\n",
       "<style scoped>\n",
       "    .dataframe tbody tr th:only-of-type {\n",
       "        vertical-align: middle;\n",
       "    }\n",
       "\n",
       "    .dataframe tbody tr th {\n",
       "        vertical-align: top;\n",
       "    }\n",
       "\n",
       "    .dataframe thead th {\n",
       "        text-align: right;\n",
       "    }\n",
       "</style>\n",
       "<table border=\"1\" class=\"dataframe\">\n",
       "  <thead>\n",
       "    <tr style=\"text-align: right;\">\n",
       "      <th></th>\n",
       "      <th>index</th>\n",
       "      <th>price</th>\n",
       "      <th>fuel</th>\n",
       "      <th>odometer</th>\n",
       "      <th>title_status</th>\n",
       "      <th>transmission</th>\n",
       "      <th>drive</th>\n",
       "      <th>type</th>\n",
       "      <th>paint_color</th>\n",
       "      <th>state</th>\n",
       "    </tr>\n",
       "    <tr>\n",
       "      <th>year</th>\n",
       "      <th></th>\n",
       "      <th></th>\n",
       "      <th></th>\n",
       "      <th></th>\n",
       "      <th></th>\n",
       "      <th></th>\n",
       "      <th></th>\n",
       "      <th></th>\n",
       "      <th></th>\n",
       "      <th></th>\n",
       "    </tr>\n",
       "  </thead>\n",
       "  <tbody>\n",
       "    <tr>\n",
       "      <th>2014</th>\n",
       "      <td>27</td>\n",
       "      <td>33590</td>\n",
       "      <td>gas</td>\n",
       "      <td>57923.0</td>\n",
       "      <td>clean</td>\n",
       "      <td>other</td>\n",
       "      <td>fwd</td>\n",
       "      <td>white</td>\n",
       "      <td>white</td>\n",
       "      <td>al</td>\n",
       "    </tr>\n",
       "    <tr>\n",
       "      <th>2010</th>\n",
       "      <td>28</td>\n",
       "      <td>22590</td>\n",
       "      <td>gas</td>\n",
       "      <td>71229.0</td>\n",
       "      <td>clean</td>\n",
       "      <td>other</td>\n",
       "      <td>fwd</td>\n",
       "      <td>blue</td>\n",
       "      <td>blue</td>\n",
       "      <td>al</td>\n",
       "    </tr>\n",
       "    <tr>\n",
       "      <th>2020</th>\n",
       "      <td>29</td>\n",
       "      <td>39590</td>\n",
       "      <td>gas</td>\n",
       "      <td>19160.0</td>\n",
       "      <td>clean</td>\n",
       "      <td>other</td>\n",
       "      <td>fwd</td>\n",
       "      <td>red</td>\n",
       "      <td>red</td>\n",
       "      <td>al</td>\n",
       "    </tr>\n",
       "    <tr>\n",
       "      <th>2017</th>\n",
       "      <td>30</td>\n",
       "      <td>30990</td>\n",
       "      <td>gas</td>\n",
       "      <td>41124.0</td>\n",
       "      <td>clean</td>\n",
       "      <td>other</td>\n",
       "      <td>fwd</td>\n",
       "      <td>red</td>\n",
       "      <td>red</td>\n",
       "      <td>al</td>\n",
       "    </tr>\n",
       "    <tr>\n",
       "      <th>2013</th>\n",
       "      <td>31</td>\n",
       "      <td>15000</td>\n",
       "      <td>gas</td>\n",
       "      <td>128000.0</td>\n",
       "      <td>clean</td>\n",
       "      <td>automatic</td>\n",
       "      <td>rwd</td>\n",
       "      <td>full-size</td>\n",
       "      <td>black</td>\n",
       "      <td>al</td>\n",
       "    </tr>\n",
       "    <tr>\n",
       "      <th>...</th>\n",
       "      <td>...</td>\n",
       "      <td>...</td>\n",
       "      <td>...</td>\n",
       "      <td>...</td>\n",
       "      <td>...</td>\n",
       "      <td>...</td>\n",
       "      <td>...</td>\n",
       "      <td>...</td>\n",
       "      <td>...</td>\n",
       "      <td>...</td>\n",
       "    </tr>\n",
       "    <tr>\n",
       "      <th>2019</th>\n",
       "      <td>426875</td>\n",
       "      <td>23590</td>\n",
       "      <td>gas</td>\n",
       "      <td>32226.0</td>\n",
       "      <td>clean</td>\n",
       "      <td>other</td>\n",
       "      <td>fwd</td>\n",
       "      <td>wy</td>\n",
       "      <td>unknown</td>\n",
       "      <td>wy</td>\n",
       "    </tr>\n",
       "    <tr>\n",
       "      <th>2020</th>\n",
       "      <td>426876</td>\n",
       "      <td>30590</td>\n",
       "      <td>gas</td>\n",
       "      <td>12029.0</td>\n",
       "      <td>clean</td>\n",
       "      <td>other</td>\n",
       "      <td>fwd</td>\n",
       "      <td>red</td>\n",
       "      <td>red</td>\n",
       "      <td>wy</td>\n",
       "    </tr>\n",
       "    <tr>\n",
       "      <th>2020</th>\n",
       "      <td>426877</td>\n",
       "      <td>34990</td>\n",
       "      <td>diesel</td>\n",
       "      <td>4174.0</td>\n",
       "      <td>clean</td>\n",
       "      <td>other</td>\n",
       "      <td>fwd</td>\n",
       "      <td>white</td>\n",
       "      <td>white</td>\n",
       "      <td>wy</td>\n",
       "    </tr>\n",
       "    <tr>\n",
       "      <th>2018</th>\n",
       "      <td>426878</td>\n",
       "      <td>28990</td>\n",
       "      <td>gas</td>\n",
       "      <td>30112.0</td>\n",
       "      <td>clean</td>\n",
       "      <td>other</td>\n",
       "      <td>fwd</td>\n",
       "      <td>silver</td>\n",
       "      <td>silver</td>\n",
       "      <td>wy</td>\n",
       "    </tr>\n",
       "    <tr>\n",
       "      <th>2019</th>\n",
       "      <td>426879</td>\n",
       "      <td>30590</td>\n",
       "      <td>gas</td>\n",
       "      <td>22716.0</td>\n",
       "      <td>clean</td>\n",
       "      <td>other</td>\n",
       "      <td>rwd</td>\n",
       "      <td>wy</td>\n",
       "      <td>unknown</td>\n",
       "      <td>wy</td>\n",
       "    </tr>\n",
       "  </tbody>\n",
       "</table>\n",
       "<p>359150 rows × 10 columns</p>\n",
       "</div>"
      ],
      "text/plain": [
       "       index  price    fuel  odometer title_status transmission drive  \\\n",
       "year                                                                    \n",
       "2014      27  33590     gas   57923.0        clean        other   fwd   \n",
       "2010      28  22590     gas   71229.0        clean        other   fwd   \n",
       "2020      29  39590     gas   19160.0        clean        other   fwd   \n",
       "2017      30  30990     gas   41124.0        clean        other   fwd   \n",
       "2013      31  15000     gas  128000.0        clean    automatic   rwd   \n",
       "...      ...    ...     ...       ...          ...          ...   ...   \n",
       "2019  426875  23590     gas   32226.0        clean        other   fwd   \n",
       "2020  426876  30590     gas   12029.0        clean        other   fwd   \n",
       "2020  426877  34990  diesel    4174.0        clean        other   fwd   \n",
       "2018  426878  28990     gas   30112.0        clean        other   fwd   \n",
       "2019  426879  30590     gas   22716.0        clean        other   rwd   \n",
       "\n",
       "           type paint_color state  \n",
       "year                               \n",
       "2014      white       white    al  \n",
       "2010       blue        blue    al  \n",
       "2020        red         red    al  \n",
       "2017        red         red    al  \n",
       "2013  full-size       black    al  \n",
       "...         ...         ...   ...  \n",
       "2019         wy     unknown    wy  \n",
       "2020        red         red    wy  \n",
       "2020      white       white    wy  \n",
       "2018     silver      silver    wy  \n",
       "2019         wy     unknown    wy  \n",
       "\n",
       "[359150 rows x 10 columns]"
      ]
     },
     "execution_count": 381,
     "metadata": {},
     "output_type": "execute_result"
    }
   ],
   "source": [
    "df_common = df.query('price > 1000 and price < 45001')\n",
    "df_common"
   ]
  },
  {
   "cell_type": "code",
   "execution_count": 383,
   "metadata": {
    "tags": []
   },
   "outputs": [
    {
     "name": "stdout",
     "output_type": "stream",
     "text": [
      "Ridge:\n",
      "\tBest parameters: {'regressor__alpha': 10.0}\n",
      "\tBest score: 0.3453103732723998\n",
      "Lasso:\n",
      "\tBest parameters: {'regressor__alpha': 0.1}\n",
      "\tBest score: 0.3453074373425795\n",
      "Linear:\n",
      "\tBest parameters: {}\n",
      "\tBest score: 0.34529333031624654\n"
     ]
    }
   ],
   "source": [
    "X_c = df_common.drop(columns=['price'], axis=1)\n",
    "y_c = df_common['price']\n",
    "X_train, X_test, y_train, y_test = train_test_split(X_c, y_c, test_size=0.2, random_state=42)\n",
    "ridge, lasso, linear = generate_model_comparison (X_train, y_train)\n",
    "print_model_comparison(ridge, lasso, linear)"
   ]
  },
  {
   "cell_type": "code",
   "execution_count": 456,
   "metadata": {
    "tags": []
   },
   "outputs": [
    {
     "name": "stdout",
     "output_type": "stream",
     "text": [
      "Ridge\n",
      " \tTrain: 7245.081824793911, \n",
      "\tTest: 7244.842696619921\n",
      "Lasso\n",
      " \tTrain: 7249.423308847166, \n",
      "\tTest, 7249.255749240097\n",
      "Linear\n",
      " \tTrain: 7245.052299031658, \n",
      "\tTest, 7244.837170495198\n"
     ]
    },
    {
     "data": {
      "image/png": "[encoded data removed]"
     },
     "metadata": {},
     "output_type": "display_data"
    }
   ],
   "source": [
    "df_results = get_and_print_mae(X_train, y_train, X_test, y_test)\n",
    "fig = px.bar(df_results, x=df_results['name'], y=[df_results['train_mae'], \n",
    "                                            df_results['test_mae']],\n",
    "       text_auto=True, barmode='group',\n",
    "       width=850,\n",
    "       height=450, \n",
    "       title = \"Mean average error\"\n",
    "      )\n",
    "fig.show(\"png\")"
   ]
  },
  {
   "cell_type": "code",
   "execution_count": 415,
   "metadata": {
    "tags": []
   },
   "outputs": [
    {
     "name": "stdout",
     "output_type": "stream",
     "text": [
      "type    :  288.746 +/-  3.402\n",
      "paint_color:  250.018 +/-  3.487\n",
      "state   :  34.934 +/-  2.042\n",
      "drive   :  7.058 +/-  0.755\n",
      "title_status:  2.189 +/-  0.455\n"
     ]
    },
    {
     "data": {
      "image/png": "[encoded data removed]",
      "text/plain": [
       "<Figure size 700x600 with 1 Axes>"
      ]
     },
     "metadata": {},
     "output_type": "display_data"
    }
   ],
   "source": [
    "from sklearn.inspection import permutation_importance\n",
    "fig, ax = plt.subplots(figsize=(7, 6))\n",
    "ax.set_title(\"Permutation Importances on multicollinear features for the cars\\n(test set)\")\n",
    "ax.set_xlabel(\"Decrease in accuracy score\")\n",
    "_ = ax.figure.tight_layout()\n",
    "\n",
    "r = permutation_importance(ridge_pipeline, X_test, y_test,\n",
    "                           n_repeats=30,\n",
    "                           random_state=0)\n",
    "for i in r.importances_mean.argsort()[::-1]:\n",
    "    if r.importances_mean[i] - 2 * r.importances_std[i] > 0:\n",
    "        print(f\"{X.columns[i]:<8}: \"\n",
    "              f\"{r.importances_mean[i]: .3f}\"\n",
    "              f\" +/- {r.importances_std[i]: .3f}\")\n",
    "        perm_sorted_idx = r.importances_mean.argsort()\n",
    "        ax.boxplot(\n",
    "        r.importances[perm_sorted_idx].T,\n",
    "        vert=False,\n",
    "        labels=X.columns[perm_sorted_idx],\n",
    "        )\n",
    "        ax.axvline(x=0, color=\"k\", linestyle=\"--\")"
   ]
  },
  {
   "cell_type": "code",
   "execution_count": 413,
   "metadata": {
    "tags": []
   },
   "outputs": [
    {
     "data": {
      "text/html": [
       "<div>\n",
       "<style scoped>\n",
       "    .dataframe tbody tr th:only-of-type {\n",
       "        vertical-align: middle;\n",
       "    }\n",
       "\n",
       "    .dataframe tbody tr th {\n",
       "        vertical-align: top;\n",
       "    }\n",
       "\n",
       "    .dataframe thead th {\n",
       "        text-align: right;\n",
       "    }\n",
       "</style>\n",
       "<table border=\"1\" class=\"dataframe\">\n",
       "  <thead>\n",
       "    <tr style=\"text-align: right;\">\n",
       "      <th></th>\n",
       "      <th>index</th>\n",
       "      <th>price</th>\n",
       "      <th>fuel</th>\n",
       "      <th>odometer</th>\n",
       "      <th>title_status</th>\n",
       "      <th>transmission</th>\n",
       "      <th>drive</th>\n",
       "      <th>type</th>\n",
       "      <th>paint_color</th>\n",
       "      <th>state</th>\n",
       "    </tr>\n",
       "    <tr>\n",
       "      <th>year</th>\n",
       "      <th></th>\n",
       "      <th></th>\n",
       "      <th></th>\n",
       "      <th></th>\n",
       "      <th></th>\n",
       "      <th></th>\n",
       "      <th></th>\n",
       "      <th></th>\n",
       "      <th></th>\n",
       "      <th></th>\n",
       "    </tr>\n",
       "  </thead>\n",
       "  <tbody>\n",
       "    <tr>\n",
       "      <th>2020</th>\n",
       "      <td>158</td>\n",
       "      <td>52990</td>\n",
       "      <td>gas</td>\n",
       "      <td>79.0</td>\n",
       "      <td>clean</td>\n",
       "      <td>other</td>\n",
       "      <td>fwd</td>\n",
       "      <td>white</td>\n",
       "      <td>white</td>\n",
       "      <td>al</td>\n",
       "    </tr>\n",
       "    <tr>\n",
       "      <th>2019</th>\n",
       "      <td>204</td>\n",
       "      <td>58977</td>\n",
       "      <td>gas</td>\n",
       "      <td>66368.0</td>\n",
       "      <td>clean</td>\n",
       "      <td>automatic</td>\n",
       "      <td>4wd</td>\n",
       "      <td>white</td>\n",
       "      <td>white</td>\n",
       "      <td>al</td>\n",
       "    </tr>\n",
       "    <tr>\n",
       "      <th>2006</th>\n",
       "      <td>220</td>\n",
       "      <td>53000</td>\n",
       "      <td>diesel</td>\n",
       "      <td>160322.0</td>\n",
       "      <td>clean</td>\n",
       "      <td>automatic</td>\n",
       "      <td>fwd</td>\n",
       "      <td>al</td>\n",
       "      <td>unknown</td>\n",
       "      <td>al</td>\n",
       "    </tr>\n",
       "    <tr>\n",
       "      <th>2017</th>\n",
       "      <td>243</td>\n",
       "      <td>45900</td>\n",
       "      <td>gas</td>\n",
       "      <td>36083.0</td>\n",
       "      <td>clean</td>\n",
       "      <td>automatic</td>\n",
       "      <td>fwd</td>\n",
       "      <td>white</td>\n",
       "      <td>white</td>\n",
       "      <td>al</td>\n",
       "    </tr>\n",
       "    <tr>\n",
       "      <th>1960</th>\n",
       "      <td>280</td>\n",
       "      <td>987654321</td>\n",
       "      <td>gas</td>\n",
       "      <td>999999.0</td>\n",
       "      <td>clean</td>\n",
       "      <td>manual</td>\n",
       "      <td>fwd</td>\n",
       "      <td>al</td>\n",
       "      <td>unknown</td>\n",
       "      <td>al</td>\n",
       "    </tr>\n",
       "  </tbody>\n",
       "</table>\n",
       "</div>"
      ],
      "text/plain": [
       "      index      price    fuel  odometer title_status transmission drive  \\\n",
       "year                                                                       \n",
       "2020    158      52990     gas      79.0        clean        other   fwd   \n",
       "2019    204      58977     gas   66368.0        clean    automatic   4wd   \n",
       "2006    220      53000  diesel  160322.0        clean    automatic   fwd   \n",
       "2017    243      45900     gas   36083.0        clean    automatic   fwd   \n",
       "1960    280  987654321     gas  999999.0        clean       manual   fwd   \n",
       "\n",
       "       type paint_color state  \n",
       "year                           \n",
       "2020  white       white    al  \n",
       "2019  white       white    al  \n",
       "2006     al     unknown    al  \n",
       "2017  white       white    al  \n",
       "1960     al     unknown    al  "
      ]
     },
     "execution_count": 413,
     "metadata": {},
     "output_type": "execute_result"
    }
   ],
   "source": [
    "# Bucket the higher car prices in the luxury category \n",
    "df_lux = df.query('price > 45000')\n",
    "df_lux.head()"
   ]
  },
  {
   "cell_type": "code",
   "execution_count": 417,
   "metadata": {
    "tags": []
   },
   "outputs": [],
   "source": [
    "# Generate X_lux and y_lux \n",
    "X_lux = df_lux.drop('price', axis=1)\n",
    "y_lux = df_lux['price']"
   ]
  },
  {
   "cell_type": "code",
   "execution_count": 425,
   "metadata": {
    "tags": []
   },
   "outputs": [
    {
     "name": "stdout",
     "output_type": "stream",
     "text": [
      "type    :  0.002 +/-  0.000\n",
      "paint_color:  0.000 +/-  0.000\n",
      "state   :  0.000 +/-  0.000\n",
      "odometer:  0.000 +/-  0.000\n"
     ]
    },
    {
     "data": {
      "image/png": "[encoded data removed]",
      "text/plain": [
       "<Figure size 700x600 with 1 Axes>"
      ]
     },
     "metadata": {},
     "output_type": "display_data"
    }
   ],
   "source": [
    "# Plot the permutation imporance for Luxury cars\n",
    "from sklearn.inspection import permutation_importance\n",
    "fig, ax = plt.subplots(figsize=(7, 6))\n",
    "ax.set_title(\"Permutation Importances luxury cars\\n(test set)\")\n",
    "ax.set_xlabel(\"Decrease in accuracy score\")\n",
    "\n",
    "r = permutation_importance(linear_pipeline, X_lux, y_lux,\n",
    "                           n_repeats=30,\n",
    "                           random_state=0)\n",
    "for i in r.importances_mean.argsort()[::-1]:\n",
    "    if r.importances_mean[i] - 2 * r.importances_std[i] > 0:\n",
    "        print(f\"{X.columns[i]:<8}: \"\n",
    "              f\"{r.importances_mean[i]: .3f}\"\n",
    "              f\" +/- {r.importances_std[i]: .3f}\")\n",
    "        perm_sorted_idx = r.importances_mean.argsort()\n",
    "        ax.boxplot(\n",
    "        r.importances[perm_sorted_idx].T,\n",
    "        vert=False,\n",
    "        labels=X.columns[perm_sorted_idx],\n",
    "        )\n",
    "        ax.axvline(x=0, color=\"k\", linestyle=\"--\")"
   ]
  },
  {
   "cell_type": "markdown",
   "metadata": {
    "tags": []
   },
   "source": [
    "### Deployment\n",
    "\n",
    "Now that we've settled on our models and findings, it is time to deliver the information to the client.  You should organize your work as a basic report that details your primary findings.  Keep in mind that your audience is a group of used car dealers interested in fine tuning their inventory."
   ]
  },
  {
   "cell_type": "markdown",
   "metadata": {
    "tags": []
   },
   "source": [
    "##### Conclusion\n",
    "\n",
    "After model testing and evaluation, it seems like the the models are very close however based on this figure below the linear model is very slightly better than ridge.\n",
    "Using this model and generating the permutation imporance for the feature yield that\n",
    "For Basic cars, these features are of utmost importance.\n",
    "\n",
    "    type \n",
    "    paint_color\n",
    "    state   \n",
    "    drive   \n",
    "    title_status\n",
    "    \n",
    "When using the same model to generate the permutation imporatance of the Luxury cars, a slightly different set of features are important in determining the price of the car\n",
    "    \n",
    "    type    \n",
    "    paint_color\n",
    "    state   \n",
    "    odometer"
   ]
  },
  {
   "cell_type": "code",
   "execution_count": null,
   "metadata": {},
   "outputs": [],
   "source": []
  }
 ],
 "metadata": {
  "kernelspec": {
   "display_name": "Python 3 (ipykernel)",
   "language": "python",
   "name": "python3"
  },
  "language_info": {
   "codemirror_mode": {
    "name": "ipython",
    "version": 3
   },
   "file_extension": ".py",
   "mimetype": "text/x-python",
   "name": "python",
   "nbconvert_exporter": "python",
   "pygments_lexer": "ipython3",
   "version": "3.11.5"
  },
  "widgets": {
   "application/vnd.jupyter.widget-state+json": {
    "state": {},
    "version_major": 2,
    "version_minor": 0
   }
  }
 },
 "nbformat": 4,
 "nbformat_minor": 4
}
